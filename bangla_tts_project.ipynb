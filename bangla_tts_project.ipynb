{
  "nbformat": 4,
  "nbformat_minor": 0,
  "metadata": {
    "colab": {
      "provenance": []
    },
    "kernelspec": {
      "name": "python3",
      "display_name": "Python 3"
    },
    "language_info": {
      "name": "python"
    },
    "widgets": {
      "application/vnd.jupyter.widget-state+json": {
        "eab1de0fc5d945709621d252e9797cf3": {
          "model_module": "@jupyter-widgets/controls",
          "model_name": "HBoxModel",
          "model_module_version": "1.5.0",
          "state": {
            "_dom_classes": [],
            "_model_module": "@jupyter-widgets/controls",
            "_model_module_version": "1.5.0",
            "_model_name": "HBoxModel",
            "_view_count": null,
            "_view_module": "@jupyter-widgets/controls",
            "_view_module_version": "1.5.0",
            "_view_name": "HBoxView",
            "box_style": "",
            "children": [
              "IPY_MODEL_b72139955b514c788c4342ed7154efea",
              "IPY_MODEL_7d89c39ba60a4017b23a74a15ebb553d",
              "IPY_MODEL_cc58a08cec024cd29ff2dfd8d64b991c"
            ],
            "layout": "IPY_MODEL_7a50f9f7c6c8498dae3e36bcb8dd66c1"
          }
        },
        "b72139955b514c788c4342ed7154efea": {
          "model_module": "@jupyter-widgets/controls",
          "model_name": "HTMLModel",
          "model_module_version": "1.5.0",
          "state": {
            "_dom_classes": [],
            "_model_module": "@jupyter-widgets/controls",
            "_model_module_version": "1.5.0",
            "_model_name": "HTMLModel",
            "_view_count": null,
            "_view_module": "@jupyter-widgets/controls",
            "_view_module_version": "1.5.0",
            "_view_name": "HTMLView",
            "description": "",
            "description_tooltip": null,
            "layout": "IPY_MODEL_edc3999dca4e471bacaec253cff2b7e3",
            "placeholder": "​",
            "style": "IPY_MODEL_01f585b33d1f4c8da74c0a025eee2cc1",
            "value": "config.json: "
          }
        },
        "7d89c39ba60a4017b23a74a15ebb553d": {
          "model_module": "@jupyter-widgets/controls",
          "model_name": "FloatProgressModel",
          "model_module_version": "1.5.0",
          "state": {
            "_dom_classes": [],
            "_model_module": "@jupyter-widgets/controls",
            "_model_module_version": "1.5.0",
            "_model_name": "FloatProgressModel",
            "_view_count": null,
            "_view_module": "@jupyter-widgets/controls",
            "_view_module_version": "1.5.0",
            "_view_name": "ProgressView",
            "bar_style": "success",
            "description": "",
            "description_tooltip": null,
            "layout": "IPY_MODEL_e3efa8c758fb49e2b1e24b3ea6e6a092",
            "max": 1,
            "min": 0,
            "orientation": "horizontal",
            "style": "IPY_MODEL_2c87125b2c944e498ab9480523e59125",
            "value": 1
          }
        },
        "cc58a08cec024cd29ff2dfd8d64b991c": {
          "model_module": "@jupyter-widgets/controls",
          "model_name": "HTMLModel",
          "model_module_version": "1.5.0",
          "state": {
            "_dom_classes": [],
            "_model_module": "@jupyter-widgets/controls",
            "_model_module_version": "1.5.0",
            "_model_name": "HTMLModel",
            "_view_count": null,
            "_view_module": "@jupyter-widgets/controls",
            "_view_module_version": "1.5.0",
            "_view_name": "HTMLView",
            "description": "",
            "description_tooltip": null,
            "layout": "IPY_MODEL_2a5a4dc2691e433c867f74162210f9b5",
            "placeholder": "​",
            "style": "IPY_MODEL_94d7b078833a4dd7a87ea0138691d9ba",
            "value": " 1.64k/? [00:00&lt;00:00, 68.0kB/s]"
          }
        },
        "7a50f9f7c6c8498dae3e36bcb8dd66c1": {
          "model_module": "@jupyter-widgets/base",
          "model_name": "LayoutModel",
          "model_module_version": "1.2.0",
          "state": {
            "_model_module": "@jupyter-widgets/base",
            "_model_module_version": "1.2.0",
            "_model_name": "LayoutModel",
            "_view_count": null,
            "_view_module": "@jupyter-widgets/base",
            "_view_module_version": "1.2.0",
            "_view_name": "LayoutView",
            "align_content": null,
            "align_items": null,
            "align_self": null,
            "border": null,
            "bottom": null,
            "display": null,
            "flex": null,
            "flex_flow": null,
            "grid_area": null,
            "grid_auto_columns": null,
            "grid_auto_flow": null,
            "grid_auto_rows": null,
            "grid_column": null,
            "grid_gap": null,
            "grid_row": null,
            "grid_template_areas": null,
            "grid_template_columns": null,
            "grid_template_rows": null,
            "height": null,
            "justify_content": null,
            "justify_items": null,
            "left": null,
            "margin": null,
            "max_height": null,
            "max_width": null,
            "min_height": null,
            "min_width": null,
            "object_fit": null,
            "object_position": null,
            "order": null,
            "overflow": null,
            "overflow_x": null,
            "overflow_y": null,
            "padding": null,
            "right": null,
            "top": null,
            "visibility": null,
            "width": null
          }
        },
        "edc3999dca4e471bacaec253cff2b7e3": {
          "model_module": "@jupyter-widgets/base",
          "model_name": "LayoutModel",
          "model_module_version": "1.2.0",
          "state": {
            "_model_module": "@jupyter-widgets/base",
            "_model_module_version": "1.2.0",
            "_model_name": "LayoutModel",
            "_view_count": null,
            "_view_module": "@jupyter-widgets/base",
            "_view_module_version": "1.2.0",
            "_view_name": "LayoutView",
            "align_content": null,
            "align_items": null,
            "align_self": null,
            "border": null,
            "bottom": null,
            "display": null,
            "flex": null,
            "flex_flow": null,
            "grid_area": null,
            "grid_auto_columns": null,
            "grid_auto_flow": null,
            "grid_auto_rows": null,
            "grid_column": null,
            "grid_gap": null,
            "grid_row": null,
            "grid_template_areas": null,
            "grid_template_columns": null,
            "grid_template_rows": null,
            "height": null,
            "justify_content": null,
            "justify_items": null,
            "left": null,
            "margin": null,
            "max_height": null,
            "max_width": null,
            "min_height": null,
            "min_width": null,
            "object_fit": null,
            "object_position": null,
            "order": null,
            "overflow": null,
            "overflow_x": null,
            "overflow_y": null,
            "padding": null,
            "right": null,
            "top": null,
            "visibility": null,
            "width": null
          }
        },
        "01f585b33d1f4c8da74c0a025eee2cc1": {
          "model_module": "@jupyter-widgets/controls",
          "model_name": "DescriptionStyleModel",
          "model_module_version": "1.5.0",
          "state": {
            "_model_module": "@jupyter-widgets/controls",
            "_model_module_version": "1.5.0",
            "_model_name": "DescriptionStyleModel",
            "_view_count": null,
            "_view_module": "@jupyter-widgets/base",
            "_view_module_version": "1.2.0",
            "_view_name": "StyleView",
            "description_width": ""
          }
        },
        "e3efa8c758fb49e2b1e24b3ea6e6a092": {
          "model_module": "@jupyter-widgets/base",
          "model_name": "LayoutModel",
          "model_module_version": "1.2.0",
          "state": {
            "_model_module": "@jupyter-widgets/base",
            "_model_module_version": "1.2.0",
            "_model_name": "LayoutModel",
            "_view_count": null,
            "_view_module": "@jupyter-widgets/base",
            "_view_module_version": "1.2.0",
            "_view_name": "LayoutView",
            "align_content": null,
            "align_items": null,
            "align_self": null,
            "border": null,
            "bottom": null,
            "display": null,
            "flex": null,
            "flex_flow": null,
            "grid_area": null,
            "grid_auto_columns": null,
            "grid_auto_flow": null,
            "grid_auto_rows": null,
            "grid_column": null,
            "grid_gap": null,
            "grid_row": null,
            "grid_template_areas": null,
            "grid_template_columns": null,
            "grid_template_rows": null,
            "height": null,
            "justify_content": null,
            "justify_items": null,
            "left": null,
            "margin": null,
            "max_height": null,
            "max_width": null,
            "min_height": null,
            "min_width": null,
            "object_fit": null,
            "object_position": null,
            "order": null,
            "overflow": null,
            "overflow_x": null,
            "overflow_y": null,
            "padding": null,
            "right": null,
            "top": null,
            "visibility": null,
            "width": "20px"
          }
        },
        "2c87125b2c944e498ab9480523e59125": {
          "model_module": "@jupyter-widgets/controls",
          "model_name": "ProgressStyleModel",
          "model_module_version": "1.5.0",
          "state": {
            "_model_module": "@jupyter-widgets/controls",
            "_model_module_version": "1.5.0",
            "_model_name": "ProgressStyleModel",
            "_view_count": null,
            "_view_module": "@jupyter-widgets/base",
            "_view_module_version": "1.2.0",
            "_view_name": "StyleView",
            "bar_color": null,
            "description_width": ""
          }
        },
        "2a5a4dc2691e433c867f74162210f9b5": {
          "model_module": "@jupyter-widgets/base",
          "model_name": "LayoutModel",
          "model_module_version": "1.2.0",
          "state": {
            "_model_module": "@jupyter-widgets/base",
            "_model_module_version": "1.2.0",
            "_model_name": "LayoutModel",
            "_view_count": null,
            "_view_module": "@jupyter-widgets/base",
            "_view_module_version": "1.2.0",
            "_view_name": "LayoutView",
            "align_content": null,
            "align_items": null,
            "align_self": null,
            "border": null,
            "bottom": null,
            "display": null,
            "flex": null,
            "flex_flow": null,
            "grid_area": null,
            "grid_auto_columns": null,
            "grid_auto_flow": null,
            "grid_auto_rows": null,
            "grid_column": null,
            "grid_gap": null,
            "grid_row": null,
            "grid_template_areas": null,
            "grid_template_columns": null,
            "grid_template_rows": null,
            "height": null,
            "justify_content": null,
            "justify_items": null,
            "left": null,
            "margin": null,
            "max_height": null,
            "max_width": null,
            "min_height": null,
            "min_width": null,
            "object_fit": null,
            "object_position": null,
            "order": null,
            "overflow": null,
            "overflow_x": null,
            "overflow_y": null,
            "padding": null,
            "right": null,
            "top": null,
            "visibility": null,
            "width": null
          }
        },
        "94d7b078833a4dd7a87ea0138691d9ba": {
          "model_module": "@jupyter-widgets/controls",
          "model_name": "DescriptionStyleModel",
          "model_module_version": "1.5.0",
          "state": {
            "_model_module": "@jupyter-widgets/controls",
            "_model_module_version": "1.5.0",
            "_model_name": "DescriptionStyleModel",
            "_view_count": null,
            "_view_module": "@jupyter-widgets/base",
            "_view_module_version": "1.2.0",
            "_view_name": "StyleView",
            "description_width": ""
          }
        },
        "19a7c904b8ec47d788aaf5ed5fa51d7a": {
          "model_module": "@jupyter-widgets/controls",
          "model_name": "HBoxModel",
          "model_module_version": "1.5.0",
          "state": {
            "_dom_classes": [],
            "_model_module": "@jupyter-widgets/controls",
            "_model_module_version": "1.5.0",
            "_model_name": "HBoxModel",
            "_view_count": null,
            "_view_module": "@jupyter-widgets/controls",
            "_view_module_version": "1.5.0",
            "_view_name": "HBoxView",
            "box_style": "",
            "children": [
              "IPY_MODEL_0abcd20f0a5c47b1a1920f42b1837ca5",
              "IPY_MODEL_045cac12a9d04168b8f40e172d0cae62",
              "IPY_MODEL_679026e2cd594e4e87654dbfddf213c0"
            ],
            "layout": "IPY_MODEL_68ba68847e674fe498968d3c03c8733c"
          }
        },
        "0abcd20f0a5c47b1a1920f42b1837ca5": {
          "model_module": "@jupyter-widgets/controls",
          "model_name": "HTMLModel",
          "model_module_version": "1.5.0",
          "state": {
            "_dom_classes": [],
            "_model_module": "@jupyter-widgets/controls",
            "_model_module_version": "1.5.0",
            "_model_name": "HTMLModel",
            "_view_count": null,
            "_view_module": "@jupyter-widgets/controls",
            "_view_module_version": "1.5.0",
            "_view_name": "HTMLView",
            "description": "",
            "description_tooltip": null,
            "layout": "IPY_MODEL_f94281834ca7410eaf93e36df8ff1e35",
            "placeholder": "​",
            "style": "IPY_MODEL_a8d9e89827fc4ffc8bf58885bd5309ad",
            "value": "model.safetensors: 100%"
          }
        },
        "045cac12a9d04168b8f40e172d0cae62": {
          "model_module": "@jupyter-widgets/controls",
          "model_name": "FloatProgressModel",
          "model_module_version": "1.5.0",
          "state": {
            "_dom_classes": [],
            "_model_module": "@jupyter-widgets/controls",
            "_model_module_version": "1.5.0",
            "_model_name": "FloatProgressModel",
            "_view_count": null,
            "_view_module": "@jupyter-widgets/controls",
            "_view_module_version": "1.5.0",
            "_view_name": "ProgressView",
            "bar_style": "success",
            "description": "",
            "description_tooltip": null,
            "layout": "IPY_MODEL_9753ca359de442b9b3c0256e8f23f04c",
            "max": 145255160,
            "min": 0,
            "orientation": "horizontal",
            "style": "IPY_MODEL_012b23b8c58446e6843863a40168443a",
            "value": 145255160
          }
        },
        "679026e2cd594e4e87654dbfddf213c0": {
          "model_module": "@jupyter-widgets/controls",
          "model_name": "HTMLModel",
          "model_module_version": "1.5.0",
          "state": {
            "_dom_classes": [],
            "_model_module": "@jupyter-widgets/controls",
            "_model_module_version": "1.5.0",
            "_model_name": "HTMLModel",
            "_view_count": null,
            "_view_module": "@jupyter-widgets/controls",
            "_view_module_version": "1.5.0",
            "_view_name": "HTMLView",
            "description": "",
            "description_tooltip": null,
            "layout": "IPY_MODEL_0721afec576340e3811a2d251754c7ae",
            "placeholder": "​",
            "style": "IPY_MODEL_8bcee0b8d16548f19392de41a692434e",
            "value": " 145M/145M [00:03&lt;00:00, 70.3MB/s]"
          }
        },
        "68ba68847e674fe498968d3c03c8733c": {
          "model_module": "@jupyter-widgets/base",
          "model_name": "LayoutModel",
          "model_module_version": "1.2.0",
          "state": {
            "_model_module": "@jupyter-widgets/base",
            "_model_module_version": "1.2.0",
            "_model_name": "LayoutModel",
            "_view_count": null,
            "_view_module": "@jupyter-widgets/base",
            "_view_module_version": "1.2.0",
            "_view_name": "LayoutView",
            "align_content": null,
            "align_items": null,
            "align_self": null,
            "border": null,
            "bottom": null,
            "display": null,
            "flex": null,
            "flex_flow": null,
            "grid_area": null,
            "grid_auto_columns": null,
            "grid_auto_flow": null,
            "grid_auto_rows": null,
            "grid_column": null,
            "grid_gap": null,
            "grid_row": null,
            "grid_template_areas": null,
            "grid_template_columns": null,
            "grid_template_rows": null,
            "height": null,
            "justify_content": null,
            "justify_items": null,
            "left": null,
            "margin": null,
            "max_height": null,
            "max_width": null,
            "min_height": null,
            "min_width": null,
            "object_fit": null,
            "object_position": null,
            "order": null,
            "overflow": null,
            "overflow_x": null,
            "overflow_y": null,
            "padding": null,
            "right": null,
            "top": null,
            "visibility": null,
            "width": null
          }
        },
        "f94281834ca7410eaf93e36df8ff1e35": {
          "model_module": "@jupyter-widgets/base",
          "model_name": "LayoutModel",
          "model_module_version": "1.2.0",
          "state": {
            "_model_module": "@jupyter-widgets/base",
            "_model_module_version": "1.2.0",
            "_model_name": "LayoutModel",
            "_view_count": null,
            "_view_module": "@jupyter-widgets/base",
            "_view_module_version": "1.2.0",
            "_view_name": "LayoutView",
            "align_content": null,
            "align_items": null,
            "align_self": null,
            "border": null,
            "bottom": null,
            "display": null,
            "flex": null,
            "flex_flow": null,
            "grid_area": null,
            "grid_auto_columns": null,
            "grid_auto_flow": null,
            "grid_auto_rows": null,
            "grid_column": null,
            "grid_gap": null,
            "grid_row": null,
            "grid_template_areas": null,
            "grid_template_columns": null,
            "grid_template_rows": null,
            "height": null,
            "justify_content": null,
            "justify_items": null,
            "left": null,
            "margin": null,
            "max_height": null,
            "max_width": null,
            "min_height": null,
            "min_width": null,
            "object_fit": null,
            "object_position": null,
            "order": null,
            "overflow": null,
            "overflow_x": null,
            "overflow_y": null,
            "padding": null,
            "right": null,
            "top": null,
            "visibility": null,
            "width": null
          }
        },
        "a8d9e89827fc4ffc8bf58885bd5309ad": {
          "model_module": "@jupyter-widgets/controls",
          "model_name": "DescriptionStyleModel",
          "model_module_version": "1.5.0",
          "state": {
            "_model_module": "@jupyter-widgets/controls",
            "_model_module_version": "1.5.0",
            "_model_name": "DescriptionStyleModel",
            "_view_count": null,
            "_view_module": "@jupyter-widgets/base",
            "_view_module_version": "1.2.0",
            "_view_name": "StyleView",
            "description_width": ""
          }
        },
        "9753ca359de442b9b3c0256e8f23f04c": {
          "model_module": "@jupyter-widgets/base",
          "model_name": "LayoutModel",
          "model_module_version": "1.2.0",
          "state": {
            "_model_module": "@jupyter-widgets/base",
            "_model_module_version": "1.2.0",
            "_model_name": "LayoutModel",
            "_view_count": null,
            "_view_module": "@jupyter-widgets/base",
            "_view_module_version": "1.2.0",
            "_view_name": "LayoutView",
            "align_content": null,
            "align_items": null,
            "align_self": null,
            "border": null,
            "bottom": null,
            "display": null,
            "flex": null,
            "flex_flow": null,
            "grid_area": null,
            "grid_auto_columns": null,
            "grid_auto_flow": null,
            "grid_auto_rows": null,
            "grid_column": null,
            "grid_gap": null,
            "grid_row": null,
            "grid_template_areas": null,
            "grid_template_columns": null,
            "grid_template_rows": null,
            "height": null,
            "justify_content": null,
            "justify_items": null,
            "left": null,
            "margin": null,
            "max_height": null,
            "max_width": null,
            "min_height": null,
            "min_width": null,
            "object_fit": null,
            "object_position": null,
            "order": null,
            "overflow": null,
            "overflow_x": null,
            "overflow_y": null,
            "padding": null,
            "right": null,
            "top": null,
            "visibility": null,
            "width": null
          }
        },
        "012b23b8c58446e6843863a40168443a": {
          "model_module": "@jupyter-widgets/controls",
          "model_name": "ProgressStyleModel",
          "model_module_version": "1.5.0",
          "state": {
            "_model_module": "@jupyter-widgets/controls",
            "_model_module_version": "1.5.0",
            "_model_name": "ProgressStyleModel",
            "_view_count": null,
            "_view_module": "@jupyter-widgets/base",
            "_view_module_version": "1.2.0",
            "_view_name": "StyleView",
            "bar_color": null,
            "description_width": ""
          }
        },
        "0721afec576340e3811a2d251754c7ae": {
          "model_module": "@jupyter-widgets/base",
          "model_name": "LayoutModel",
          "model_module_version": "1.2.0",
          "state": {
            "_model_module": "@jupyter-widgets/base",
            "_model_module_version": "1.2.0",
            "_model_name": "LayoutModel",
            "_view_count": null,
            "_view_module": "@jupyter-widgets/base",
            "_view_module_version": "1.2.0",
            "_view_name": "LayoutView",
            "align_content": null,
            "align_items": null,
            "align_self": null,
            "border": null,
            "bottom": null,
            "display": null,
            "flex": null,
            "flex_flow": null,
            "grid_area": null,
            "grid_auto_columns": null,
            "grid_auto_flow": null,
            "grid_auto_rows": null,
            "grid_column": null,
            "grid_gap": null,
            "grid_row": null,
            "grid_template_areas": null,
            "grid_template_columns": null,
            "grid_template_rows": null,
            "height": null,
            "justify_content": null,
            "justify_items": null,
            "left": null,
            "margin": null,
            "max_height": null,
            "max_width": null,
            "min_height": null,
            "min_width": null,
            "object_fit": null,
            "object_position": null,
            "order": null,
            "overflow": null,
            "overflow_x": null,
            "overflow_y": null,
            "padding": null,
            "right": null,
            "top": null,
            "visibility": null,
            "width": null
          }
        },
        "8bcee0b8d16548f19392de41a692434e": {
          "model_module": "@jupyter-widgets/controls",
          "model_name": "DescriptionStyleModel",
          "model_module_version": "1.5.0",
          "state": {
            "_model_module": "@jupyter-widgets/controls",
            "_model_module_version": "1.5.0",
            "_model_name": "DescriptionStyleModel",
            "_view_count": null,
            "_view_module": "@jupyter-widgets/base",
            "_view_module_version": "1.2.0",
            "_view_name": "StyleView",
            "description_width": ""
          }
        },
        "bfcc6486c3c147758a8b1fd6c90dc169": {
          "model_module": "@jupyter-widgets/controls",
          "model_name": "HBoxModel",
          "model_module_version": "1.5.0",
          "state": {
            "_dom_classes": [],
            "_model_module": "@jupyter-widgets/controls",
            "_model_module_version": "1.5.0",
            "_model_name": "HBoxModel",
            "_view_count": null,
            "_view_module": "@jupyter-widgets/controls",
            "_view_module_version": "1.5.0",
            "_view_name": "HBoxView",
            "box_style": "",
            "children": [
              "IPY_MODEL_569d55df49a245c18341aa214575f3e1",
              "IPY_MODEL_9c651baebc814dba93c666252069d99b",
              "IPY_MODEL_80a037a20eb4463b8ff700674ec0e6ad"
            ],
            "layout": "IPY_MODEL_85e88dbe70dd411c840acba40e9cb260"
          }
        },
        "569d55df49a245c18341aa214575f3e1": {
          "model_module": "@jupyter-widgets/controls",
          "model_name": "HTMLModel",
          "model_module_version": "1.5.0",
          "state": {
            "_dom_classes": [],
            "_model_module": "@jupyter-widgets/controls",
            "_model_module_version": "1.5.0",
            "_model_name": "HTMLModel",
            "_view_count": null,
            "_view_module": "@jupyter-widgets/controls",
            "_view_module_version": "1.5.0",
            "_view_name": "HTMLView",
            "description": "",
            "description_tooltip": null,
            "layout": "IPY_MODEL_9f211a3639b44686a45e1ab8dfdf1efe",
            "placeholder": "​",
            "style": "IPY_MODEL_704f74e0c0c74b8cbf751bdcb5d67972",
            "value": "tokenizer_config.json: 100%"
          }
        },
        "9c651baebc814dba93c666252069d99b": {
          "model_module": "@jupyter-widgets/controls",
          "model_name": "FloatProgressModel",
          "model_module_version": "1.5.0",
          "state": {
            "_dom_classes": [],
            "_model_module": "@jupyter-widgets/controls",
            "_model_module_version": "1.5.0",
            "_model_name": "FloatProgressModel",
            "_view_count": null,
            "_view_module": "@jupyter-widgets/controls",
            "_view_module_version": "1.5.0",
            "_view_name": "ProgressView",
            "bar_style": "success",
            "description": "",
            "description_tooltip": null,
            "layout": "IPY_MODEL_8487ac5b11384e28a519b54f243ce04a",
            "max": 287,
            "min": 0,
            "orientation": "horizontal",
            "style": "IPY_MODEL_31a6482c9dff4d3f9697f9d06479011c",
            "value": 287
          }
        },
        "80a037a20eb4463b8ff700674ec0e6ad": {
          "model_module": "@jupyter-widgets/controls",
          "model_name": "HTMLModel",
          "model_module_version": "1.5.0",
          "state": {
            "_dom_classes": [],
            "_model_module": "@jupyter-widgets/controls",
            "_model_module_version": "1.5.0",
            "_model_name": "HTMLModel",
            "_view_count": null,
            "_view_module": "@jupyter-widgets/controls",
            "_view_module_version": "1.5.0",
            "_view_name": "HTMLView",
            "description": "",
            "description_tooltip": null,
            "layout": "IPY_MODEL_84f49d80893a464fbc826dba8cbe5ef0",
            "placeholder": "​",
            "style": "IPY_MODEL_7952fee215264fdca4fce21c53f88dc4",
            "value": " 287/287 [00:00&lt;00:00, 19.7kB/s]"
          }
        },
        "85e88dbe70dd411c840acba40e9cb260": {
          "model_module": "@jupyter-widgets/base",
          "model_name": "LayoutModel",
          "model_module_version": "1.2.0",
          "state": {
            "_model_module": "@jupyter-widgets/base",
            "_model_module_version": "1.2.0",
            "_model_name": "LayoutModel",
            "_view_count": null,
            "_view_module": "@jupyter-widgets/base",
            "_view_module_version": "1.2.0",
            "_view_name": "LayoutView",
            "align_content": null,
            "align_items": null,
            "align_self": null,
            "border": null,
            "bottom": null,
            "display": null,
            "flex": null,
            "flex_flow": null,
            "grid_area": null,
            "grid_auto_columns": null,
            "grid_auto_flow": null,
            "grid_auto_rows": null,
            "grid_column": null,
            "grid_gap": null,
            "grid_row": null,
            "grid_template_areas": null,
            "grid_template_columns": null,
            "grid_template_rows": null,
            "height": null,
            "justify_content": null,
            "justify_items": null,
            "left": null,
            "margin": null,
            "max_height": null,
            "max_width": null,
            "min_height": null,
            "min_width": null,
            "object_fit": null,
            "object_position": null,
            "order": null,
            "overflow": null,
            "overflow_x": null,
            "overflow_y": null,
            "padding": null,
            "right": null,
            "top": null,
            "visibility": null,
            "width": null
          }
        },
        "9f211a3639b44686a45e1ab8dfdf1efe": {
          "model_module": "@jupyter-widgets/base",
          "model_name": "LayoutModel",
          "model_module_version": "1.2.0",
          "state": {
            "_model_module": "@jupyter-widgets/base",
            "_model_module_version": "1.2.0",
            "_model_name": "LayoutModel",
            "_view_count": null,
            "_view_module": "@jupyter-widgets/base",
            "_view_module_version": "1.2.0",
            "_view_name": "LayoutView",
            "align_content": null,
            "align_items": null,
            "align_self": null,
            "border": null,
            "bottom": null,
            "display": null,
            "flex": null,
            "flex_flow": null,
            "grid_area": null,
            "grid_auto_columns": null,
            "grid_auto_flow": null,
            "grid_auto_rows": null,
            "grid_column": null,
            "grid_gap": null,
            "grid_row": null,
            "grid_template_areas": null,
            "grid_template_columns": null,
            "grid_template_rows": null,
            "height": null,
            "justify_content": null,
            "justify_items": null,
            "left": null,
            "margin": null,
            "max_height": null,
            "max_width": null,
            "min_height": null,
            "min_width": null,
            "object_fit": null,
            "object_position": null,
            "order": null,
            "overflow": null,
            "overflow_x": null,
            "overflow_y": null,
            "padding": null,
            "right": null,
            "top": null,
            "visibility": null,
            "width": null
          }
        },
        "704f74e0c0c74b8cbf751bdcb5d67972": {
          "model_module": "@jupyter-widgets/controls",
          "model_name": "DescriptionStyleModel",
          "model_module_version": "1.5.0",
          "state": {
            "_model_module": "@jupyter-widgets/controls",
            "_model_module_version": "1.5.0",
            "_model_name": "DescriptionStyleModel",
            "_view_count": null,
            "_view_module": "@jupyter-widgets/base",
            "_view_module_version": "1.2.0",
            "_view_name": "StyleView",
            "description_width": ""
          }
        },
        "8487ac5b11384e28a519b54f243ce04a": {
          "model_module": "@jupyter-widgets/base",
          "model_name": "LayoutModel",
          "model_module_version": "1.2.0",
          "state": {
            "_model_module": "@jupyter-widgets/base",
            "_model_module_version": "1.2.0",
            "_model_name": "LayoutModel",
            "_view_count": null,
            "_view_module": "@jupyter-widgets/base",
            "_view_module_version": "1.2.0",
            "_view_name": "LayoutView",
            "align_content": null,
            "align_items": null,
            "align_self": null,
            "border": null,
            "bottom": null,
            "display": null,
            "flex": null,
            "flex_flow": null,
            "grid_area": null,
            "grid_auto_columns": null,
            "grid_auto_flow": null,
            "grid_auto_rows": null,
            "grid_column": null,
            "grid_gap": null,
            "grid_row": null,
            "grid_template_areas": null,
            "grid_template_columns": null,
            "grid_template_rows": null,
            "height": null,
            "justify_content": null,
            "justify_items": null,
            "left": null,
            "margin": null,
            "max_height": null,
            "max_width": null,
            "min_height": null,
            "min_width": null,
            "object_fit": null,
            "object_position": null,
            "order": null,
            "overflow": null,
            "overflow_x": null,
            "overflow_y": null,
            "padding": null,
            "right": null,
            "top": null,
            "visibility": null,
            "width": null
          }
        },
        "31a6482c9dff4d3f9697f9d06479011c": {
          "model_module": "@jupyter-widgets/controls",
          "model_name": "ProgressStyleModel",
          "model_module_version": "1.5.0",
          "state": {
            "_model_module": "@jupyter-widgets/controls",
            "_model_module_version": "1.5.0",
            "_model_name": "ProgressStyleModel",
            "_view_count": null,
            "_view_module": "@jupyter-widgets/base",
            "_view_module_version": "1.2.0",
            "_view_name": "StyleView",
            "bar_color": null,
            "description_width": ""
          }
        },
        "84f49d80893a464fbc826dba8cbe5ef0": {
          "model_module": "@jupyter-widgets/base",
          "model_name": "LayoutModel",
          "model_module_version": "1.2.0",
          "state": {
            "_model_module": "@jupyter-widgets/base",
            "_model_module_version": "1.2.0",
            "_model_name": "LayoutModel",
            "_view_count": null,
            "_view_module": "@jupyter-widgets/base",
            "_view_module_version": "1.2.0",
            "_view_name": "LayoutView",
            "align_content": null,
            "align_items": null,
            "align_self": null,
            "border": null,
            "bottom": null,
            "display": null,
            "flex": null,
            "flex_flow": null,
            "grid_area": null,
            "grid_auto_columns": null,
            "grid_auto_flow": null,
            "grid_auto_rows": null,
            "grid_column": null,
            "grid_gap": null,
            "grid_row": null,
            "grid_template_areas": null,
            "grid_template_columns": null,
            "grid_template_rows": null,
            "height": null,
            "justify_content": null,
            "justify_items": null,
            "left": null,
            "margin": null,
            "max_height": null,
            "max_width": null,
            "min_height": null,
            "min_width": null,
            "object_fit": null,
            "object_position": null,
            "order": null,
            "overflow": null,
            "overflow_x": null,
            "overflow_y": null,
            "padding": null,
            "right": null,
            "top": null,
            "visibility": null,
            "width": null
          }
        },
        "7952fee215264fdca4fce21c53f88dc4": {
          "model_module": "@jupyter-widgets/controls",
          "model_name": "DescriptionStyleModel",
          "model_module_version": "1.5.0",
          "state": {
            "_model_module": "@jupyter-widgets/controls",
            "_model_module_version": "1.5.0",
            "_model_name": "DescriptionStyleModel",
            "_view_count": null,
            "_view_module": "@jupyter-widgets/base",
            "_view_module_version": "1.2.0",
            "_view_name": "StyleView",
            "description_width": ""
          }
        },
        "381c21f1a4bd41dfbe4ee7a637971236": {
          "model_module": "@jupyter-widgets/controls",
          "model_name": "HBoxModel",
          "model_module_version": "1.5.0",
          "state": {
            "_dom_classes": [],
            "_model_module": "@jupyter-widgets/controls",
            "_model_module_version": "1.5.0",
            "_model_name": "HBoxModel",
            "_view_count": null,
            "_view_module": "@jupyter-widgets/controls",
            "_view_module_version": "1.5.0",
            "_view_name": "HBoxView",
            "box_style": "",
            "children": [
              "IPY_MODEL_6f8921a3bd964fdfa05243e0a2a7171e",
              "IPY_MODEL_766125ba68d04225b89936d1c0b1df5d",
              "IPY_MODEL_d849088c1b6444fda7bfdb0f9cb48bd1"
            ],
            "layout": "IPY_MODEL_cf85d8d6cb4c4e66b3bda50628bc89a0"
          }
        },
        "6f8921a3bd964fdfa05243e0a2a7171e": {
          "model_module": "@jupyter-widgets/controls",
          "model_name": "HTMLModel",
          "model_module_version": "1.5.0",
          "state": {
            "_dom_classes": [],
            "_model_module": "@jupyter-widgets/controls",
            "_model_module_version": "1.5.0",
            "_model_name": "HTMLModel",
            "_view_count": null,
            "_view_module": "@jupyter-widgets/controls",
            "_view_module_version": "1.5.0",
            "_view_name": "HTMLView",
            "description": "",
            "description_tooltip": null,
            "layout": "IPY_MODEL_450d3c66724340a590fb73509d559962",
            "placeholder": "​",
            "style": "IPY_MODEL_bcd686a94efc411fbc914ac2fa5efde7",
            "value": "vocab.json: 100%"
          }
        },
        "766125ba68d04225b89936d1c0b1df5d": {
          "model_module": "@jupyter-widgets/controls",
          "model_name": "FloatProgressModel",
          "model_module_version": "1.5.0",
          "state": {
            "_dom_classes": [],
            "_model_module": "@jupyter-widgets/controls",
            "_model_module_version": "1.5.0",
            "_model_name": "FloatProgressModel",
            "_view_count": null,
            "_view_module": "@jupyter-widgets/controls",
            "_view_module_version": "1.5.0",
            "_view_name": "ProgressView",
            "bar_style": "success",
            "description": "",
            "description_tooltip": null,
            "layout": "IPY_MODEL_f96e5400a1a74ae18e51f27cf4f647fb",
            "max": 927,
            "min": 0,
            "orientation": "horizontal",
            "style": "IPY_MODEL_d506922effbf4c36af999f873bfc71a0",
            "value": 927
          }
        },
        "d849088c1b6444fda7bfdb0f9cb48bd1": {
          "model_module": "@jupyter-widgets/controls",
          "model_name": "HTMLModel",
          "model_module_version": "1.5.0",
          "state": {
            "_dom_classes": [],
            "_model_module": "@jupyter-widgets/controls",
            "_model_module_version": "1.5.0",
            "_model_name": "HTMLModel",
            "_view_count": null,
            "_view_module": "@jupyter-widgets/controls",
            "_view_module_version": "1.5.0",
            "_view_name": "HTMLView",
            "description": "",
            "description_tooltip": null,
            "layout": "IPY_MODEL_3d122777aed0400d8e0af3370f26b481",
            "placeholder": "​",
            "style": "IPY_MODEL_78ef09d827a84201bde793811e03006e",
            "value": " 927/927 [00:00&lt;00:00, 74.2kB/s]"
          }
        },
        "cf85d8d6cb4c4e66b3bda50628bc89a0": {
          "model_module": "@jupyter-widgets/base",
          "model_name": "LayoutModel",
          "model_module_version": "1.2.0",
          "state": {
            "_model_module": "@jupyter-widgets/base",
            "_model_module_version": "1.2.0",
            "_model_name": "LayoutModel",
            "_view_count": null,
            "_view_module": "@jupyter-widgets/base",
            "_view_module_version": "1.2.0",
            "_view_name": "LayoutView",
            "align_content": null,
            "align_items": null,
            "align_self": null,
            "border": null,
            "bottom": null,
            "display": null,
            "flex": null,
            "flex_flow": null,
            "grid_area": null,
            "grid_auto_columns": null,
            "grid_auto_flow": null,
            "grid_auto_rows": null,
            "grid_column": null,
            "grid_gap": null,
            "grid_row": null,
            "grid_template_areas": null,
            "grid_template_columns": null,
            "grid_template_rows": null,
            "height": null,
            "justify_content": null,
            "justify_items": null,
            "left": null,
            "margin": null,
            "max_height": null,
            "max_width": null,
            "min_height": null,
            "min_width": null,
            "object_fit": null,
            "object_position": null,
            "order": null,
            "overflow": null,
            "overflow_x": null,
            "overflow_y": null,
            "padding": null,
            "right": null,
            "top": null,
            "visibility": null,
            "width": null
          }
        },
        "450d3c66724340a590fb73509d559962": {
          "model_module": "@jupyter-widgets/base",
          "model_name": "LayoutModel",
          "model_module_version": "1.2.0",
          "state": {
            "_model_module": "@jupyter-widgets/base",
            "_model_module_version": "1.2.0",
            "_model_name": "LayoutModel",
            "_view_count": null,
            "_view_module": "@jupyter-widgets/base",
            "_view_module_version": "1.2.0",
            "_view_name": "LayoutView",
            "align_content": null,
            "align_items": null,
            "align_self": null,
            "border": null,
            "bottom": null,
            "display": null,
            "flex": null,
            "flex_flow": null,
            "grid_area": null,
            "grid_auto_columns": null,
            "grid_auto_flow": null,
            "grid_auto_rows": null,
            "grid_column": null,
            "grid_gap": null,
            "grid_row": null,
            "grid_template_areas": null,
            "grid_template_columns": null,
            "grid_template_rows": null,
            "height": null,
            "justify_content": null,
            "justify_items": null,
            "left": null,
            "margin": null,
            "max_height": null,
            "max_width": null,
            "min_height": null,
            "min_width": null,
            "object_fit": null,
            "object_position": null,
            "order": null,
            "overflow": null,
            "overflow_x": null,
            "overflow_y": null,
            "padding": null,
            "right": null,
            "top": null,
            "visibility": null,
            "width": null
          }
        },
        "bcd686a94efc411fbc914ac2fa5efde7": {
          "model_module": "@jupyter-widgets/controls",
          "model_name": "DescriptionStyleModel",
          "model_module_version": "1.5.0",
          "state": {
            "_model_module": "@jupyter-widgets/controls",
            "_model_module_version": "1.5.0",
            "_model_name": "DescriptionStyleModel",
            "_view_count": null,
            "_view_module": "@jupyter-widgets/base",
            "_view_module_version": "1.2.0",
            "_view_name": "StyleView",
            "description_width": ""
          }
        },
        "f96e5400a1a74ae18e51f27cf4f647fb": {
          "model_module": "@jupyter-widgets/base",
          "model_name": "LayoutModel",
          "model_module_version": "1.2.0",
          "state": {
            "_model_module": "@jupyter-widgets/base",
            "_model_module_version": "1.2.0",
            "_model_name": "LayoutModel",
            "_view_count": null,
            "_view_module": "@jupyter-widgets/base",
            "_view_module_version": "1.2.0",
            "_view_name": "LayoutView",
            "align_content": null,
            "align_items": null,
            "align_self": null,
            "border": null,
            "bottom": null,
            "display": null,
            "flex": null,
            "flex_flow": null,
            "grid_area": null,
            "grid_auto_columns": null,
            "grid_auto_flow": null,
            "grid_auto_rows": null,
            "grid_column": null,
            "grid_gap": null,
            "grid_row": null,
            "grid_template_areas": null,
            "grid_template_columns": null,
            "grid_template_rows": null,
            "height": null,
            "justify_content": null,
            "justify_items": null,
            "left": null,
            "margin": null,
            "max_height": null,
            "max_width": null,
            "min_height": null,
            "min_width": null,
            "object_fit": null,
            "object_position": null,
            "order": null,
            "overflow": null,
            "overflow_x": null,
            "overflow_y": null,
            "padding": null,
            "right": null,
            "top": null,
            "visibility": null,
            "width": null
          }
        },
        "d506922effbf4c36af999f873bfc71a0": {
          "model_module": "@jupyter-widgets/controls",
          "model_name": "ProgressStyleModel",
          "model_module_version": "1.5.0",
          "state": {
            "_model_module": "@jupyter-widgets/controls",
            "_model_module_version": "1.5.0",
            "_model_name": "ProgressStyleModel",
            "_view_count": null,
            "_view_module": "@jupyter-widgets/base",
            "_view_module_version": "1.2.0",
            "_view_name": "StyleView",
            "bar_color": null,
            "description_width": ""
          }
        },
        "3d122777aed0400d8e0af3370f26b481": {
          "model_module": "@jupyter-widgets/base",
          "model_name": "LayoutModel",
          "model_module_version": "1.2.0",
          "state": {
            "_model_module": "@jupyter-widgets/base",
            "_model_module_version": "1.2.0",
            "_model_name": "LayoutModel",
            "_view_count": null,
            "_view_module": "@jupyter-widgets/base",
            "_view_module_version": "1.2.0",
            "_view_name": "LayoutView",
            "align_content": null,
            "align_items": null,
            "align_self": null,
            "border": null,
            "bottom": null,
            "display": null,
            "flex": null,
            "flex_flow": null,
            "grid_area": null,
            "grid_auto_columns": null,
            "grid_auto_flow": null,
            "grid_auto_rows": null,
            "grid_column": null,
            "grid_gap": null,
            "grid_row": null,
            "grid_template_areas": null,
            "grid_template_columns": null,
            "grid_template_rows": null,
            "height": null,
            "justify_content": null,
            "justify_items": null,
            "left": null,
            "margin": null,
            "max_height": null,
            "max_width": null,
            "min_height": null,
            "min_width": null,
            "object_fit": null,
            "object_position": null,
            "order": null,
            "overflow": null,
            "overflow_x": null,
            "overflow_y": null,
            "padding": null,
            "right": null,
            "top": null,
            "visibility": null,
            "width": null
          }
        },
        "78ef09d827a84201bde793811e03006e": {
          "model_module": "@jupyter-widgets/controls",
          "model_name": "DescriptionStyleModel",
          "model_module_version": "1.5.0",
          "state": {
            "_model_module": "@jupyter-widgets/controls",
            "_model_module_version": "1.5.0",
            "_model_name": "DescriptionStyleModel",
            "_view_count": null,
            "_view_module": "@jupyter-widgets/base",
            "_view_module_version": "1.2.0",
            "_view_name": "StyleView",
            "description_width": ""
          }
        },
        "e052c8e29b77426c81328e9a8ff31cb6": {
          "model_module": "@jupyter-widgets/controls",
          "model_name": "HBoxModel",
          "model_module_version": "1.5.0",
          "state": {
            "_dom_classes": [],
            "_model_module": "@jupyter-widgets/controls",
            "_model_module_version": "1.5.0",
            "_model_name": "HBoxModel",
            "_view_count": null,
            "_view_module": "@jupyter-widgets/controls",
            "_view_module_version": "1.5.0",
            "_view_name": "HBoxView",
            "box_style": "",
            "children": [
              "IPY_MODEL_94d82c2c502e4c979b7fd10eedc220fb",
              "IPY_MODEL_3925f831b4f847f691cbc98b5caf8ee6",
              "IPY_MODEL_f314149a2a434a909978e55c9ae4aef2"
            ],
            "layout": "IPY_MODEL_21600cd0202a4e559dada1858571d718"
          }
        },
        "94d82c2c502e4c979b7fd10eedc220fb": {
          "model_module": "@jupyter-widgets/controls",
          "model_name": "HTMLModel",
          "model_module_version": "1.5.0",
          "state": {
            "_dom_classes": [],
            "_model_module": "@jupyter-widgets/controls",
            "_model_module_version": "1.5.0",
            "_model_name": "HTMLModel",
            "_view_count": null,
            "_view_module": "@jupyter-widgets/controls",
            "_view_module_version": "1.5.0",
            "_view_name": "HTMLView",
            "description": "",
            "description_tooltip": null,
            "layout": "IPY_MODEL_e9072a60716f4a6e82f01d6628eb461f",
            "placeholder": "​",
            "style": "IPY_MODEL_4b1e5e0dff2e40a88f6727fa10965fc4",
            "value": "special_tokens_map.json: 100%"
          }
        },
        "3925f831b4f847f691cbc98b5caf8ee6": {
          "model_module": "@jupyter-widgets/controls",
          "model_name": "FloatProgressModel",
          "model_module_version": "1.5.0",
          "state": {
            "_dom_classes": [],
            "_model_module": "@jupyter-widgets/controls",
            "_model_module_version": "1.5.0",
            "_model_name": "FloatProgressModel",
            "_view_count": null,
            "_view_module": "@jupyter-widgets/controls",
            "_view_module_version": "1.5.0",
            "_view_name": "ProgressView",
            "bar_style": "success",
            "description": "",
            "description_tooltip": null,
            "layout": "IPY_MODEL_6eff97cdbce943368f03f899281a31d0",
            "max": 47,
            "min": 0,
            "orientation": "horizontal",
            "style": "IPY_MODEL_bb3ce24acb0d4198b63b8e6ad16aafbd",
            "value": 47
          }
        },
        "f314149a2a434a909978e55c9ae4aef2": {
          "model_module": "@jupyter-widgets/controls",
          "model_name": "HTMLModel",
          "model_module_version": "1.5.0",
          "state": {
            "_dom_classes": [],
            "_model_module": "@jupyter-widgets/controls",
            "_model_module_version": "1.5.0",
            "_model_name": "HTMLModel",
            "_view_count": null,
            "_view_module": "@jupyter-widgets/controls",
            "_view_module_version": "1.5.0",
            "_view_name": "HTMLView",
            "description": "",
            "description_tooltip": null,
            "layout": "IPY_MODEL_59a2a6c1b34a425886fbb06436f9cc4c",
            "placeholder": "​",
            "style": "IPY_MODEL_6e46e0efa6834a50b79d3ec6ee84c1b7",
            "value": " 47.0/47.0 [00:00&lt;00:00, 3.07kB/s]"
          }
        },
        "21600cd0202a4e559dada1858571d718": {
          "model_module": "@jupyter-widgets/base",
          "model_name": "LayoutModel",
          "model_module_version": "1.2.0",
          "state": {
            "_model_module": "@jupyter-widgets/base",
            "_model_module_version": "1.2.0",
            "_model_name": "LayoutModel",
            "_view_count": null,
            "_view_module": "@jupyter-widgets/base",
            "_view_module_version": "1.2.0",
            "_view_name": "LayoutView",
            "align_content": null,
            "align_items": null,
            "align_self": null,
            "border": null,
            "bottom": null,
            "display": null,
            "flex": null,
            "flex_flow": null,
            "grid_area": null,
            "grid_auto_columns": null,
            "grid_auto_flow": null,
            "grid_auto_rows": null,
            "grid_column": null,
            "grid_gap": null,
            "grid_row": null,
            "grid_template_areas": null,
            "grid_template_columns": null,
            "grid_template_rows": null,
            "height": null,
            "justify_content": null,
            "justify_items": null,
            "left": null,
            "margin": null,
            "max_height": null,
            "max_width": null,
            "min_height": null,
            "min_width": null,
            "object_fit": null,
            "object_position": null,
            "order": null,
            "overflow": null,
            "overflow_x": null,
            "overflow_y": null,
            "padding": null,
            "right": null,
            "top": null,
            "visibility": null,
            "width": null
          }
        },
        "e9072a60716f4a6e82f01d6628eb461f": {
          "model_module": "@jupyter-widgets/base",
          "model_name": "LayoutModel",
          "model_module_version": "1.2.0",
          "state": {
            "_model_module": "@jupyter-widgets/base",
            "_model_module_version": "1.2.0",
            "_model_name": "LayoutModel",
            "_view_count": null,
            "_view_module": "@jupyter-widgets/base",
            "_view_module_version": "1.2.0",
            "_view_name": "LayoutView",
            "align_content": null,
            "align_items": null,
            "align_self": null,
            "border": null,
            "bottom": null,
            "display": null,
            "flex": null,
            "flex_flow": null,
            "grid_area": null,
            "grid_auto_columns": null,
            "grid_auto_flow": null,
            "grid_auto_rows": null,
            "grid_column": null,
            "grid_gap": null,
            "grid_row": null,
            "grid_template_areas": null,
            "grid_template_columns": null,
            "grid_template_rows": null,
            "height": null,
            "justify_content": null,
            "justify_items": null,
            "left": null,
            "margin": null,
            "max_height": null,
            "max_width": null,
            "min_height": null,
            "min_width": null,
            "object_fit": null,
            "object_position": null,
            "order": null,
            "overflow": null,
            "overflow_x": null,
            "overflow_y": null,
            "padding": null,
            "right": null,
            "top": null,
            "visibility": null,
            "width": null
          }
        },
        "4b1e5e0dff2e40a88f6727fa10965fc4": {
          "model_module": "@jupyter-widgets/controls",
          "model_name": "DescriptionStyleModel",
          "model_module_version": "1.5.0",
          "state": {
            "_model_module": "@jupyter-widgets/controls",
            "_model_module_version": "1.5.0",
            "_model_name": "DescriptionStyleModel",
            "_view_count": null,
            "_view_module": "@jupyter-widgets/base",
            "_view_module_version": "1.2.0",
            "_view_name": "StyleView",
            "description_width": ""
          }
        },
        "6eff97cdbce943368f03f899281a31d0": {
          "model_module": "@jupyter-widgets/base",
          "model_name": "LayoutModel",
          "model_module_version": "1.2.0",
          "state": {
            "_model_module": "@jupyter-widgets/base",
            "_model_module_version": "1.2.0",
            "_model_name": "LayoutModel",
            "_view_count": null,
            "_view_module": "@jupyter-widgets/base",
            "_view_module_version": "1.2.0",
            "_view_name": "LayoutView",
            "align_content": null,
            "align_items": null,
            "align_self": null,
            "border": null,
            "bottom": null,
            "display": null,
            "flex": null,
            "flex_flow": null,
            "grid_area": null,
            "grid_auto_columns": null,
            "grid_auto_flow": null,
            "grid_auto_rows": null,
            "grid_column": null,
            "grid_gap": null,
            "grid_row": null,
            "grid_template_areas": null,
            "grid_template_columns": null,
            "grid_template_rows": null,
            "height": null,
            "justify_content": null,
            "justify_items": null,
            "left": null,
            "margin": null,
            "max_height": null,
            "max_width": null,
            "min_height": null,
            "min_width": null,
            "object_fit": null,
            "object_position": null,
            "order": null,
            "overflow": null,
            "overflow_x": null,
            "overflow_y": null,
            "padding": null,
            "right": null,
            "top": null,
            "visibility": null,
            "width": null
          }
        },
        "bb3ce24acb0d4198b63b8e6ad16aafbd": {
          "model_module": "@jupyter-widgets/controls",
          "model_name": "ProgressStyleModel",
          "model_module_version": "1.5.0",
          "state": {
            "_model_module": "@jupyter-widgets/controls",
            "_model_module_version": "1.5.0",
            "_model_name": "ProgressStyleModel",
            "_view_count": null,
            "_view_module": "@jupyter-widgets/base",
            "_view_module_version": "1.2.0",
            "_view_name": "StyleView",
            "bar_color": null,
            "description_width": ""
          }
        },
        "59a2a6c1b34a425886fbb06436f9cc4c": {
          "model_module": "@jupyter-widgets/base",
          "model_name": "LayoutModel",
          "model_module_version": "1.2.0",
          "state": {
            "_model_module": "@jupyter-widgets/base",
            "_model_module_version": "1.2.0",
            "_model_name": "LayoutModel",
            "_view_count": null,
            "_view_module": "@jupyter-widgets/base",
            "_view_module_version": "1.2.0",
            "_view_name": "LayoutView",
            "align_content": null,
            "align_items": null,
            "align_self": null,
            "border": null,
            "bottom": null,
            "display": null,
            "flex": null,
            "flex_flow": null,
            "grid_area": null,
            "grid_auto_columns": null,
            "grid_auto_flow": null,
            "grid_auto_rows": null,
            "grid_column": null,
            "grid_gap": null,
            "grid_row": null,
            "grid_template_areas": null,
            "grid_template_columns": null,
            "grid_template_rows": null,
            "height": null,
            "justify_content": null,
            "justify_items": null,
            "left": null,
            "margin": null,
            "max_height": null,
            "max_width": null,
            "min_height": null,
            "min_width": null,
            "object_fit": null,
            "object_position": null,
            "order": null,
            "overflow": null,
            "overflow_x": null,
            "overflow_y": null,
            "padding": null,
            "right": null,
            "top": null,
            "visibility": null,
            "width": null
          }
        },
        "6e46e0efa6834a50b79d3ec6ee84c1b7": {
          "model_module": "@jupyter-widgets/controls",
          "model_name": "DescriptionStyleModel",
          "model_module_version": "1.5.0",
          "state": {
            "_model_module": "@jupyter-widgets/controls",
            "_model_module_version": "1.5.0",
            "_model_name": "DescriptionStyleModel",
            "_view_count": null,
            "_view_module": "@jupyter-widgets/base",
            "_view_module_version": "1.2.0",
            "_view_name": "StyleView",
            "description_width": ""
          }
        },
        "6457f466899b47878426704fc6d6309d": {
          "model_module": "@jupyter-widgets/controls",
          "model_name": "HBoxModel",
          "model_module_version": "1.5.0",
          "state": {
            "_dom_classes": [],
            "_model_module": "@jupyter-widgets/controls",
            "_model_module_version": "1.5.0",
            "_model_name": "HBoxModel",
            "_view_count": null,
            "_view_module": "@jupyter-widgets/controls",
            "_view_module_version": "1.5.0",
            "_view_name": "HBoxView",
            "box_style": "",
            "children": [
              "IPY_MODEL_452cc99e9de54162a3c5c5cdd82cb62d",
              "IPY_MODEL_290de4bc1d984a3b82980bdc4a037910",
              "IPY_MODEL_4064fb6e727946eb92e9d66e138815c0"
            ],
            "layout": "IPY_MODEL_e3a26fb01d5f42239edc3b18b5f522e0"
          }
        },
        "452cc99e9de54162a3c5c5cdd82cb62d": {
          "model_module": "@jupyter-widgets/controls",
          "model_name": "HTMLModel",
          "model_module_version": "1.5.0",
          "state": {
            "_dom_classes": [],
            "_model_module": "@jupyter-widgets/controls",
            "_model_module_version": "1.5.0",
            "_model_name": "HTMLModel",
            "_view_count": null,
            "_view_module": "@jupyter-widgets/controls",
            "_view_module_version": "1.5.0",
            "_view_name": "HTMLView",
            "description": "",
            "description_tooltip": null,
            "layout": "IPY_MODEL_ffe7a4acfd6b4da8a04460a3fb61726c",
            "placeholder": "​",
            "style": "IPY_MODEL_7d9eaac13c964467beec11e269aa2ae2",
            "value": "README.md: 100%"
          }
        },
        "290de4bc1d984a3b82980bdc4a037910": {
          "model_module": "@jupyter-widgets/controls",
          "model_name": "FloatProgressModel",
          "model_module_version": "1.5.0",
          "state": {
            "_dom_classes": [],
            "_model_module": "@jupyter-widgets/controls",
            "_model_module_version": "1.5.0",
            "_model_name": "FloatProgressModel",
            "_view_count": null,
            "_view_module": "@jupyter-widgets/controls",
            "_view_module_version": "1.5.0",
            "_view_name": "ProgressView",
            "bar_style": "success",
            "description": "",
            "description_tooltip": null,
            "layout": "IPY_MODEL_8c39cd16ec214ea4be24f6c146ef163d",
            "max": 12719,
            "min": 0,
            "orientation": "horizontal",
            "style": "IPY_MODEL_0a029a7e4ce447e785881d758dd95c3c",
            "value": 12719
          }
        },
        "4064fb6e727946eb92e9d66e138815c0": {
          "model_module": "@jupyter-widgets/controls",
          "model_name": "HTMLModel",
          "model_module_version": "1.5.0",
          "state": {
            "_dom_classes": [],
            "_model_module": "@jupyter-widgets/controls",
            "_model_module_version": "1.5.0",
            "_model_name": "HTMLModel",
            "_view_count": null,
            "_view_module": "@jupyter-widgets/controls",
            "_view_module_version": "1.5.0",
            "_view_name": "HTMLView",
            "description": "",
            "description_tooltip": null,
            "layout": "IPY_MODEL_2ba402f7120742858fb994a438593cf0",
            "placeholder": "​",
            "style": "IPY_MODEL_67bc03ce1b5847e884045872b5c8e36c",
            "value": " 12.7k/12.7k [00:00&lt;00:00, 603kB/s]"
          }
        },
        "e3a26fb01d5f42239edc3b18b5f522e0": {
          "model_module": "@jupyter-widgets/base",
          "model_name": "LayoutModel",
          "model_module_version": "1.2.0",
          "state": {
            "_model_module": "@jupyter-widgets/base",
            "_model_module_version": "1.2.0",
            "_model_name": "LayoutModel",
            "_view_count": null,
            "_view_module": "@jupyter-widgets/base",
            "_view_module_version": "1.2.0",
            "_view_name": "LayoutView",
            "align_content": null,
            "align_items": null,
            "align_self": null,
            "border": null,
            "bottom": null,
            "display": null,
            "flex": null,
            "flex_flow": null,
            "grid_area": null,
            "grid_auto_columns": null,
            "grid_auto_flow": null,
            "grid_auto_rows": null,
            "grid_column": null,
            "grid_gap": null,
            "grid_row": null,
            "grid_template_areas": null,
            "grid_template_columns": null,
            "grid_template_rows": null,
            "height": null,
            "justify_content": null,
            "justify_items": null,
            "left": null,
            "margin": null,
            "max_height": null,
            "max_width": null,
            "min_height": null,
            "min_width": null,
            "object_fit": null,
            "object_position": null,
            "order": null,
            "overflow": null,
            "overflow_x": null,
            "overflow_y": null,
            "padding": null,
            "right": null,
            "top": null,
            "visibility": null,
            "width": null
          }
        },
        "ffe7a4acfd6b4da8a04460a3fb61726c": {
          "model_module": "@jupyter-widgets/base",
          "model_name": "LayoutModel",
          "model_module_version": "1.2.0",
          "state": {
            "_model_module": "@jupyter-widgets/base",
            "_model_module_version": "1.2.0",
            "_model_name": "LayoutModel",
            "_view_count": null,
            "_view_module": "@jupyter-widgets/base",
            "_view_module_version": "1.2.0",
            "_view_name": "LayoutView",
            "align_content": null,
            "align_items": null,
            "align_self": null,
            "border": null,
            "bottom": null,
            "display": null,
            "flex": null,
            "flex_flow": null,
            "grid_area": null,
            "grid_auto_columns": null,
            "grid_auto_flow": null,
            "grid_auto_rows": null,
            "grid_column": null,
            "grid_gap": null,
            "grid_row": null,
            "grid_template_areas": null,
            "grid_template_columns": null,
            "grid_template_rows": null,
            "height": null,
            "justify_content": null,
            "justify_items": null,
            "left": null,
            "margin": null,
            "max_height": null,
            "max_width": null,
            "min_height": null,
            "min_width": null,
            "object_fit": null,
            "object_position": null,
            "order": null,
            "overflow": null,
            "overflow_x": null,
            "overflow_y": null,
            "padding": null,
            "right": null,
            "top": null,
            "visibility": null,
            "width": null
          }
        },
        "7d9eaac13c964467beec11e269aa2ae2": {
          "model_module": "@jupyter-widgets/controls",
          "model_name": "DescriptionStyleModel",
          "model_module_version": "1.5.0",
          "state": {
            "_model_module": "@jupyter-widgets/controls",
            "_model_module_version": "1.5.0",
            "_model_name": "DescriptionStyleModel",
            "_view_count": null,
            "_view_module": "@jupyter-widgets/base",
            "_view_module_version": "1.2.0",
            "_view_name": "StyleView",
            "description_width": ""
          }
        },
        "8c39cd16ec214ea4be24f6c146ef163d": {
          "model_module": "@jupyter-widgets/base",
          "model_name": "LayoutModel",
          "model_module_version": "1.2.0",
          "state": {
            "_model_module": "@jupyter-widgets/base",
            "_model_module_version": "1.2.0",
            "_model_name": "LayoutModel",
            "_view_count": null,
            "_view_module": "@jupyter-widgets/base",
            "_view_module_version": "1.2.0",
            "_view_name": "LayoutView",
            "align_content": null,
            "align_items": null,
            "align_self": null,
            "border": null,
            "bottom": null,
            "display": null,
            "flex": null,
            "flex_flow": null,
            "grid_area": null,
            "grid_auto_columns": null,
            "grid_auto_flow": null,
            "grid_auto_rows": null,
            "grid_column": null,
            "grid_gap": null,
            "grid_row": null,
            "grid_template_areas": null,
            "grid_template_columns": null,
            "grid_template_rows": null,
            "height": null,
            "justify_content": null,
            "justify_items": null,
            "left": null,
            "margin": null,
            "max_height": null,
            "max_width": null,
            "min_height": null,
            "min_width": null,
            "object_fit": null,
            "object_position": null,
            "order": null,
            "overflow": null,
            "overflow_x": null,
            "overflow_y": null,
            "padding": null,
            "right": null,
            "top": null,
            "visibility": null,
            "width": null
          }
        },
        "0a029a7e4ce447e785881d758dd95c3c": {
          "model_module": "@jupyter-widgets/controls",
          "model_name": "ProgressStyleModel",
          "model_module_version": "1.5.0",
          "state": {
            "_model_module": "@jupyter-widgets/controls",
            "_model_module_version": "1.5.0",
            "_model_name": "ProgressStyleModel",
            "_view_count": null,
            "_view_module": "@jupyter-widgets/base",
            "_view_module_version": "1.2.0",
            "_view_name": "StyleView",
            "bar_color": null,
            "description_width": ""
          }
        },
        "2ba402f7120742858fb994a438593cf0": {
          "model_module": "@jupyter-widgets/base",
          "model_name": "LayoutModel",
          "model_module_version": "1.2.0",
          "state": {
            "_model_module": "@jupyter-widgets/base",
            "_model_module_version": "1.2.0",
            "_model_name": "LayoutModel",
            "_view_count": null,
            "_view_module": "@jupyter-widgets/base",
            "_view_module_version": "1.2.0",
            "_view_name": "LayoutView",
            "align_content": null,
            "align_items": null,
            "align_self": null,
            "border": null,
            "bottom": null,
            "display": null,
            "flex": null,
            "flex_flow": null,
            "grid_area": null,
            "grid_auto_columns": null,
            "grid_auto_flow": null,
            "grid_auto_rows": null,
            "grid_column": null,
            "grid_gap": null,
            "grid_row": null,
            "grid_template_areas": null,
            "grid_template_columns": null,
            "grid_template_rows": null,
            "height": null,
            "justify_content": null,
            "justify_items": null,
            "left": null,
            "margin": null,
            "max_height": null,
            "max_width": null,
            "min_height": null,
            "min_width": null,
            "object_fit": null,
            "object_position": null,
            "order": null,
            "overflow": null,
            "overflow_x": null,
            "overflow_y": null,
            "padding": null,
            "right": null,
            "top": null,
            "visibility": null,
            "width": null
          }
        },
        "67bc03ce1b5847e884045872b5c8e36c": {
          "model_module": "@jupyter-widgets/controls",
          "model_name": "DescriptionStyleModel",
          "model_module_version": "1.5.0",
          "state": {
            "_model_module": "@jupyter-widgets/controls",
            "_model_module_version": "1.5.0",
            "_model_name": "DescriptionStyleModel",
            "_view_count": null,
            "_view_module": "@jupyter-widgets/base",
            "_view_module_version": "1.2.0",
            "_view_name": "StyleView",
            "description_width": ""
          }
        }
      }
    }
  },
  "cells": [
    {
      "cell_type": "code",
      "source": [
        "\n",
        "!pip install -q torch torchaudio --index-url https://download.pytorch.org/whl/cu118\n",
        "!pip install -q librosa soundfile numpy pandas matplotlib seaborn scikit-learn datasets\n",
        "!apt-get install -qq espeak-ng\n",
        "!pip install -q pysbd gruut phonemizer inflect num2words unidecode anyascii\n",
        "!pip install -q --no-build-isolation TTS==0.22.0"
      ],
      "metadata": {
        "colab": {
          "base_uri": "https://localhost:8080/"
        },
        "id": "WR6aCgRHgIXV",
        "outputId": "91d6430d-8ba4-4ef9-83ee-62fecd1376f6"
      },
      "execution_count": 5,
      "outputs": [
        {
          "output_type": "stream",
          "name": "stdout",
          "text": [
            "Selecting previously unselected package libpcaudio0:amd64.\n",
            "(Reading database ... 126675 files and directories currently installed.)\n",
            "Preparing to unpack .../libpcaudio0_1.1-6build2_amd64.deb ...\n",
            "Unpacking libpcaudio0:amd64 (1.1-6build2) ...\n",
            "Selecting previously unselected package libsonic0:amd64.\n",
            "Preparing to unpack .../libsonic0_0.2.0-11build1_amd64.deb ...\n",
            "Unpacking libsonic0:amd64 (0.2.0-11build1) ...\n",
            "Selecting previously unselected package espeak-ng-data:amd64.\n",
            "Preparing to unpack .../espeak-ng-data_1.50+dfsg-10ubuntu0.1_amd64.deb ...\n",
            "Unpacking espeak-ng-data:amd64 (1.50+dfsg-10ubuntu0.1) ...\n",
            "Selecting previously unselected package libespeak-ng1:amd64.\n",
            "Preparing to unpack .../libespeak-ng1_1.50+dfsg-10ubuntu0.1_amd64.deb ...\n",
            "Unpacking libespeak-ng1:amd64 (1.50+dfsg-10ubuntu0.1) ...\n",
            "Selecting previously unselected package espeak-ng.\n",
            "Preparing to unpack .../espeak-ng_1.50+dfsg-10ubuntu0.1_amd64.deb ...\n",
            "Unpacking espeak-ng (1.50+dfsg-10ubuntu0.1) ...\n",
            "Setting up libpcaudio0:amd64 (1.1-6build2) ...\n",
            "Setting up libsonic0:amd64 (0.2.0-11build1) ...\n",
            "Setting up espeak-ng-data:amd64 (1.50+dfsg-10ubuntu0.1) ...\n",
            "Setting up libespeak-ng1:amd64 (1.50+dfsg-10ubuntu0.1) ...\n",
            "Setting up espeak-ng (1.50+dfsg-10ubuntu0.1) ...\n",
            "Processing triggers for man-db (2.10.2-1) ...\n",
            "Processing triggers for libc-bin (2.35-0ubuntu3.8) ...\n",
            "/sbin/ldconfig.real: /usr/local/lib/libumf.so.0 is not a symbolic link\n",
            "\n",
            "/sbin/ldconfig.real: /usr/local/lib/libtbbmalloc.so.2 is not a symbolic link\n",
            "\n",
            "/sbin/ldconfig.real: /usr/local/lib/libtbbbind.so.3 is not a symbolic link\n",
            "\n",
            "/sbin/ldconfig.real: /usr/local/lib/libur_loader.so.0 is not a symbolic link\n",
            "\n",
            "/sbin/ldconfig.real: /usr/local/lib/libur_adapter_level_zero.so.0 is not a symbolic link\n",
            "\n",
            "/sbin/ldconfig.real: /usr/local/lib/libtbbbind_2_5.so.3 is not a symbolic link\n",
            "\n",
            "/sbin/ldconfig.real: /usr/local/lib/libtcm_debug.so.1 is not a symbolic link\n",
            "\n",
            "/sbin/ldconfig.real: /usr/local/lib/libur_adapter_level_zero_v2.so.0 is not a symbolic link\n",
            "\n",
            "/sbin/ldconfig.real: /usr/local/lib/libtbb.so.12 is not a symbolic link\n",
            "\n",
            "/sbin/ldconfig.real: /usr/local/lib/libtbbmalloc_proxy.so.2 is not a symbolic link\n",
            "\n",
            "/sbin/ldconfig.real: /usr/local/lib/libtbbbind_2_0.so.3 is not a symbolic link\n",
            "\n",
            "/sbin/ldconfig.real: /usr/local/lib/libhwloc.so.15 is not a symbolic link\n",
            "\n",
            "/sbin/ldconfig.real: /usr/local/lib/libur_adapter_opencl.so.0 is not a symbolic link\n",
            "\n",
            "/sbin/ldconfig.real: /usr/local/lib/libtcm.so.1 is not a symbolic link\n",
            "\n",
            "\u001b[2K     \u001b[90m━━━━━━━━━━━━━━━━━━━━━━━━━━━━━━━━━━━━━━━━\u001b[0m \u001b[32m85.3/85.3 kB\u001b[0m \u001b[31m3.1 MB/s\u001b[0m eta \u001b[36m0:00:00\u001b[0m\n",
            "\u001b[?25h  Preparing metadata (setup.py) ... \u001b[?25l\u001b[?25hdone\n",
            "\u001b[2K     \u001b[90m━━━━━━━━━━━━━━━━━━━━━━━━━━━━━━━━━━━━━━━━\u001b[0m \u001b[32m48.2/48.2 kB\u001b[0m \u001b[31m3.5 MB/s\u001b[0m eta \u001b[36m0:00:00\u001b[0m\n",
            "\u001b[2K     \u001b[90m━━━━━━━━━━━━━━━━━━━━━━━━━━━━━━━━━━━━━━━\u001b[0m \u001b[32m101.6/101.6 kB\u001b[0m \u001b[31m7.4 MB/s\u001b[0m eta \u001b[36m0:00:00\u001b[0m\n",
            "\u001b[?25h  Preparing metadata (setup.py) ... \u001b[?25l\u001b[?25hdone\n",
            "\u001b[2K     \u001b[90m━━━━━━━━━━━━━━━━━━━━━━━━━━━━━━━━━━━━━━━\u001b[0m \u001b[32m15.3/15.3 MB\u001b[0m \u001b[31m118.2 MB/s\u001b[0m eta \u001b[36m0:00:00\u001b[0m\n",
            "\u001b[?25h  Preparing metadata (setup.py) ... \u001b[?25l\u001b[?25hdone\n",
            "  Preparing metadata (setup.py) ... \u001b[?25l\u001b[?25hdone\n",
            "\u001b[2K   \u001b[90m━━━━━━━━━━━━━━━━━━━━━━━━━━━━━━━━━━━━━━━━\u001b[0m \u001b[32m71.1/71.1 kB\u001b[0m \u001b[31m5.1 MB/s\u001b[0m eta \u001b[36m0:00:00\u001b[0m\n",
            "\u001b[2K   \u001b[90m━━━━━━━━━━━━━━━━━━━━━━━━━━━━━━━━━━━━━━━━\u001b[0m \u001b[32m103.8/103.8 kB\u001b[0m \u001b[31m8.0 MB/s\u001b[0m eta \u001b[36m0:00:00\u001b[0m\n",
            "\u001b[2K   \u001b[90m━━━━━━━━━━━━━━━━━━━━━━━━━━━━━━━━━━━━━━━━\u001b[0m \u001b[32m163.5/163.5 kB\u001b[0m \u001b[31m12.8 MB/s\u001b[0m eta \u001b[36m0:00:00\u001b[0m\n",
            "\u001b[2K   \u001b[90m━━━━━━━━━━━━━━━━━━━━━━━━━━━━━━━━━━━━━━━━\u001b[0m \u001b[32m235.8/235.8 kB\u001b[0m \u001b[31m17.8 MB/s\u001b[0m eta \u001b[36m0:00:00\u001b[0m\n",
            "\u001b[2K   \u001b[90m━━━━━━━━━━━━━━━━━━━━━━━━━━━━━━━━━━━━━━━━\u001b[0m \u001b[32m345.1/345.1 kB\u001b[0m \u001b[31m24.5 MB/s\u001b[0m eta \u001b[36m0:00:00\u001b[0m\n",
            "\u001b[2K   \u001b[90m━━━━━━━━━━━━━━━━━━━━━━━━━━━━━━━━━━━━━━━━\u001b[0m \u001b[32m293.8/293.8 kB\u001b[0m \u001b[31m20.6 MB/s\u001b[0m eta \u001b[36m0:00:00\u001b[0m\n",
            "\u001b[2K   \u001b[90m━━━━━━━━━━━━━━━━━━━━━━━━━━━━━━━━━━━━━━━━\u001b[0m \u001b[32m1.3/1.3 MB\u001b[0m \u001b[31m60.3 MB/s\u001b[0m eta \u001b[36m0:00:00\u001b[0m\n",
            "\u001b[2K   \u001b[90m━━━━━━━━━━━━━━━━━━━━━━━━━━━━━━━━━━━━━━━━\u001b[0m \u001b[32m60.2/60.2 kB\u001b[0m \u001b[31m4.6 MB/s\u001b[0m eta \u001b[36m0:00:00\u001b[0m\n",
            "\u001b[2K   \u001b[90m━━━━━━━━━━━━━━━━━━━━━━━━━━━━━━━━━━━━━━━━\u001b[0m \u001b[32m213.4/213.4 kB\u001b[0m \u001b[31m16.3 MB/s\u001b[0m eta \u001b[36m0:00:00\u001b[0m\n",
            "\u001b[2K   \u001b[90m━━━━━━━━━━━━━━━━━━━━━━━━━━━━━━━━━━━━━━━━\u001b[0m \u001b[32m565.4/565.4 kB\u001b[0m \u001b[31m35.4 MB/s\u001b[0m eta \u001b[36m0:00:00\u001b[0m\n",
            "\u001b[?25h  Building wheel for gruut (setup.py) ... \u001b[?25l\u001b[?25hdone\n",
            "  Building wheel for docopt (setup.py) ... \u001b[?25l\u001b[?25hdone\n",
            "  Building wheel for gruut-ipa (setup.py) ... \u001b[?25l\u001b[?25hdone\n",
            "  Building wheel for gruut_lang_en (setup.py) ... \u001b[?25l\u001b[?25hdone\n",
            "\u001b[31mERROR: Ignored the following versions that require a different python version: 0.0.10.2 Requires-Python >=3.6.0, <3.9; 0.0.10.3 Requires-Python >=3.6.0, <3.9; 0.0.11 Requires-Python >=3.6.0, <3.9; 0.0.12 Requires-Python >=3.6.0, <3.9; 0.0.13.1 Requires-Python >=3.6.0, <3.9; 0.0.13.2 Requires-Python >=3.6.0, <3.9; 0.0.14.1 Requires-Python >=3.6.0, <3.9; 0.0.15 Requires-Python >=3.6.0, <3.9; 0.0.15.1 Requires-Python >=3.6.0, <3.9; 0.0.9 Requires-Python >=3.6.0, <3.9; 0.0.9.1 Requires-Python >=3.6.0, <3.9; 0.0.9.2 Requires-Python >=3.6.0, <3.9; 0.0.9a10 Requires-Python >=3.6.0, <3.9; 0.0.9a9 Requires-Python >=3.6.0, <3.9; 0.1.0 Requires-Python >=3.6.0, <3.10; 0.1.1 Requires-Python >=3.6.0, <3.10; 0.1.2 Requires-Python >=3.6.0, <3.10; 0.1.3 Requires-Python >=3.6.0, <3.10; 0.10.0 Requires-Python >=3.7.0, <3.11; 0.10.1 Requires-Python >=3.7.0, <3.11; 0.10.2 Requires-Python >=3.7.0, <3.11; 0.11.0 Requires-Python >=3.7.0, <3.11; 0.11.1 Requires-Python >=3.7.0, <3.11; 0.12.0 Requires-Python >=3.7.0, <3.11; 0.13.0 Requires-Python >=3.7.0, <3.11; 0.13.1 Requires-Python >=3.7.0, <3.11; 0.13.2 Requires-Python >=3.7.0, <3.11; 0.13.3 Requires-Python >=3.7.0, <3.11; 0.14.0 Requires-Python >=3.7.0, <3.11; 0.14.2 Requires-Python >=3.7.0, <3.11; 0.14.3 Requires-Python >=3.7.0, <3.11; 0.15.0 Requires-Python >=3.9.0, <3.12; 0.15.1 Requires-Python >=3.9.0, <3.12; 0.15.2 Requires-Python >=3.9.0, <3.12; 0.15.4 Requires-Python >=3.9.0, <3.12; 0.15.5 Requires-Python >=3.9.0, <3.12; 0.15.6 Requires-Python >=3.9.0, <3.12; 0.16.0 Requires-Python >=3.9.0, <3.12; 0.16.1 Requires-Python >=3.9.0, <3.12; 0.16.3 Requires-Python >=3.9.0, <3.12; 0.16.4 Requires-Python >=3.9.0, <3.12; 0.16.5 Requires-Python >=3.9.0, <3.12; 0.16.6 Requires-Python >=3.9.0, <3.12; 0.17.0 Requires-Python >=3.9.0, <3.12; 0.17.1 Requires-Python >=3.9.0, <3.12; 0.17.2 Requires-Python >=3.9.0, <3.12; 0.17.4 Requires-Python >=3.9.0, <3.12; 0.17.5 Requires-Python >=3.9.0, <3.12; 0.17.6 Requires-Python >=3.9.0, <3.12; 0.17.7 Requires-Python >=3.9.0, <3.12; 0.17.8 Requires-Python >=3.9.0, <3.12; 0.17.9 Requires-Python >=3.9.0, <3.12; 0.18.0 Requires-Python >=3.9.0, <3.12; 0.18.1 Requires-Python >=3.9.0, <3.12; 0.18.2 Requires-Python >=3.9.0, <3.12; 0.19.0 Requires-Python >=3.9.0, <3.12; 0.19.1 Requires-Python >=3.9.0, <3.12; 0.2.0 Requires-Python >=3.6.0, <3.10; 0.2.1 Requires-Python >=3.6.0, <3.10; 0.2.2 Requires-Python >=3.6.0, <3.10; 0.20.0 Requires-Python >=3.9.0, <3.12; 0.20.1 Requires-Python >=3.9.0, <3.12; 0.20.2 Requires-Python >=3.9.0, <3.12; 0.20.3 Requires-Python >=3.9.0, <3.12; 0.20.4 Requires-Python >=3.9.0, <3.12; 0.20.5 Requires-Python >=3.9.0, <3.12; 0.20.6 Requires-Python >=3.9.0, <3.12; 0.21.0 Requires-Python >=3.9.0, <3.12; 0.21.1 Requires-Python >=3.9.0, <3.12; 0.21.2 Requires-Python >=3.9.0, <3.12; 0.21.3 Requires-Python >=3.9.0, <3.12; 0.22.0 Requires-Python >=3.9.0, <3.12; 0.3.0 Requires-Python >=3.6.0, <3.10; 0.3.1 Requires-Python >=3.6.0, <3.10; 0.4.0 Requires-Python >=3.6.0, <3.10; 0.4.1 Requires-Python >=3.6.0, <3.10; 0.4.2 Requires-Python >=3.6.0, <3.10; 0.5.0 Requires-Python >=3.6.0, <3.10; 0.6.0 Requires-Python >=3.6.0, <3.10; 0.6.1 Requires-Python >=3.6.0, <3.10; 0.6.2 Requires-Python >=3.6.0, <3.10; 0.7.0 Requires-Python >=3.7.0, <3.11; 0.7.1 Requires-Python >=3.7.0, <3.11; 0.8.0 Requires-Python >=3.7.0, <3.11; 0.9.0 Requires-Python >=3.7.0, <3.11\u001b[0m\u001b[31m\n",
            "\u001b[0m\u001b[31mERROR: Could not find a version that satisfies the requirement TTS==0.22.0 (from versions: none)\u001b[0m\u001b[31m\n",
            "\u001b[0m\u001b[31mERROR: No matching distribution found for TTS==0.22.0\u001b[0m\u001b[31m\n",
            "\u001b[0m"
          ]
        }
      ]
    },
    {
      "cell_type": "code",
      "source": [
        "# Cell 1: Install with Alternative TTS\n",
        "!pip install -q torch torchaudio --index-url https://download.pytorch.org/whl/cu118\n",
        "!pip install -q transformers accelerate sentencepiece protobuf\n",
        "!pip install -q librosa soundfile numpy pandas matplotlib seaborn scikit-learn datasets"
      ],
      "metadata": {
        "id": "6G7YB3HihU72"
      },
      "execution_count": 7,
      "outputs": []
    },
    {
      "cell_type": "code",
      "source": [
        "# Cell 2: Mount Drive\n",
        "from google.colab import drive\n",
        "drive.mount('/content/drive')\n"
      ],
      "metadata": {
        "colab": {
          "base_uri": "https://localhost:8080/"
        },
        "id": "fE0oYX5ShiEc",
        "outputId": "a38fc36c-da3b-41cb-f860-3a30b4956824"
      },
      "execution_count": 8,
      "outputs": [
        {
          "output_type": "stream",
          "name": "stdout",
          "text": [
            "Mounted at /content/drive\n"
          ]
        }
      ]
    },
    {
      "cell_type": "code",
      "source": [
        "# Cell 3: Setup\n",
        "import torch, torchaudio, librosa, numpy as np, pandas as pd\n",
        "import matplotlib.pyplot as plt, seaborn as sns, warnings, os, shutil\n",
        "from pathlib import Path\n",
        "from datasets import load_dataset\n",
        "from transformers import pipeline\n",
        "from IPython.display import Audio, display\n",
        "warnings.filterwarnings('ignore')\n",
        "\n",
        "PROJECT_DIR = Path('/content/bangla_tts')\n",
        "DRIVE_DIR = Path('/content/drive/MyDrive/bangla_tts_project')\n",
        "DATA_DIR = Path('/content/bangla_data')\n",
        "for d in [PROJECT_DIR, DRIVE_DIR, DATA_DIR]: d.mkdir(parents=True, exist_ok=True)\n",
        "\n",
        "SAMPLE_RATE = 16000\n",
        "MIN_DUR, MAX_DUR = 2.0, 8.0\n",
        "NUM_SAMPLES = 50\n",
        "\n",
        "print(f\"PyTorch: {torch.__version__}, CUDA: {torch.cuda.is_available()}\")"
      ],
      "metadata": {
        "colab": {
          "base_uri": "https://localhost:8080/"
        },
        "id": "9e3O5jkohwUK",
        "outputId": "2c6e44ae-b9c0-4d52-d4e5-6e9e6f7884c4"
      },
      "execution_count": 9,
      "outputs": [
        {
          "output_type": "stream",
          "name": "stdout",
          "text": [
            "PyTorch: 2.8.0+cu126, CUDA: False\n"
          ]
        }
      ]
    },
    {
      "cell_type": "markdown",
      "source": [
        "# Load Model (Using Facebook MMS-TTS)"
      ],
      "metadata": {
        "id": "G446GFzc0Kac"
      }
    },
    {
      "cell_type": "code",
      "source": [
        "\n",
        "device = \"cuda\" if torch.cuda.is_available() else \"cpu\"\n",
        "tts = pipeline(\"text-to-speech\", model=\"facebook/mms-tts-ben\", device=0 if torch.cuda.is_available() else -1)\n",
        "print(f\"Model loaded on {device}\")"
      ],
      "metadata": {
        "colab": {
          "base_uri": "https://localhost:8080/",
          "height": 212,
          "referenced_widgets": [
            "eab1de0fc5d945709621d252e9797cf3",
            "b72139955b514c788c4342ed7154efea",
            "7d89c39ba60a4017b23a74a15ebb553d",
            "cc58a08cec024cd29ff2dfd8d64b991c",
            "7a50f9f7c6c8498dae3e36bcb8dd66c1",
            "edc3999dca4e471bacaec253cff2b7e3",
            "01f585b33d1f4c8da74c0a025eee2cc1",
            "e3efa8c758fb49e2b1e24b3ea6e6a092",
            "2c87125b2c944e498ab9480523e59125",
            "2a5a4dc2691e433c867f74162210f9b5",
            "94d7b078833a4dd7a87ea0138691d9ba",
            "19a7c904b8ec47d788aaf5ed5fa51d7a",
            "0abcd20f0a5c47b1a1920f42b1837ca5",
            "045cac12a9d04168b8f40e172d0cae62",
            "679026e2cd594e4e87654dbfddf213c0",
            "68ba68847e674fe498968d3c03c8733c",
            "f94281834ca7410eaf93e36df8ff1e35",
            "a8d9e89827fc4ffc8bf58885bd5309ad",
            "9753ca359de442b9b3c0256e8f23f04c",
            "012b23b8c58446e6843863a40168443a",
            "0721afec576340e3811a2d251754c7ae",
            "8bcee0b8d16548f19392de41a692434e",
            "bfcc6486c3c147758a8b1fd6c90dc169",
            "569d55df49a245c18341aa214575f3e1",
            "9c651baebc814dba93c666252069d99b",
            "80a037a20eb4463b8ff700674ec0e6ad",
            "85e88dbe70dd411c840acba40e9cb260",
            "9f211a3639b44686a45e1ab8dfdf1efe",
            "704f74e0c0c74b8cbf751bdcb5d67972",
            "8487ac5b11384e28a519b54f243ce04a",
            "31a6482c9dff4d3f9697f9d06479011c",
            "84f49d80893a464fbc826dba8cbe5ef0",
            "7952fee215264fdca4fce21c53f88dc4",
            "381c21f1a4bd41dfbe4ee7a637971236",
            "6f8921a3bd964fdfa05243e0a2a7171e",
            "766125ba68d04225b89936d1c0b1df5d",
            "d849088c1b6444fda7bfdb0f9cb48bd1",
            "cf85d8d6cb4c4e66b3bda50628bc89a0",
            "450d3c66724340a590fb73509d559962",
            "bcd686a94efc411fbc914ac2fa5efde7",
            "f96e5400a1a74ae18e51f27cf4f647fb",
            "d506922effbf4c36af999f873bfc71a0",
            "3d122777aed0400d8e0af3370f26b481",
            "78ef09d827a84201bde793811e03006e",
            "e052c8e29b77426c81328e9a8ff31cb6",
            "94d82c2c502e4c979b7fd10eedc220fb",
            "3925f831b4f847f691cbc98b5caf8ee6",
            "f314149a2a434a909978e55c9ae4aef2",
            "21600cd0202a4e559dada1858571d718",
            "e9072a60716f4a6e82f01d6628eb461f",
            "4b1e5e0dff2e40a88f6727fa10965fc4",
            "6eff97cdbce943368f03f899281a31d0",
            "bb3ce24acb0d4198b63b8e6ad16aafbd",
            "59a2a6c1b34a425886fbb06436f9cc4c",
            "6e46e0efa6834a50b79d3ec6ee84c1b7"
          ]
        },
        "id": "XcipCm4Rh5ao",
        "outputId": "20e93417-9dd3-43bb-abc4-92ac61f66457"
      },
      "execution_count": 10,
      "outputs": [
        {
          "output_type": "display_data",
          "data": {
            "text/plain": [
              "config.json: 0.00B [00:00, ?B/s]"
            ],
            "application/vnd.jupyter.widget-view+json": {
              "version_major": 2,
              "version_minor": 0,
              "model_id": "eab1de0fc5d945709621d252e9797cf3"
            }
          },
          "metadata": {}
        },
        {
          "output_type": "display_data",
          "data": {
            "text/plain": [
              "model.safetensors:   0%|          | 0.00/145M [00:00<?, ?B/s]"
            ],
            "application/vnd.jupyter.widget-view+json": {
              "version_major": 2,
              "version_minor": 0,
              "model_id": "19a7c904b8ec47d788aaf5ed5fa51d7a"
            }
          },
          "metadata": {}
        },
        {
          "output_type": "display_data",
          "data": {
            "text/plain": [
              "tokenizer_config.json:   0%|          | 0.00/287 [00:00<?, ?B/s]"
            ],
            "application/vnd.jupyter.widget-view+json": {
              "version_major": 2,
              "version_minor": 0,
              "model_id": "bfcc6486c3c147758a8b1fd6c90dc169"
            }
          },
          "metadata": {}
        },
        {
          "output_type": "display_data",
          "data": {
            "text/plain": [
              "vocab.json:   0%|          | 0.00/927 [00:00<?, ?B/s]"
            ],
            "application/vnd.jupyter.widget-view+json": {
              "version_major": 2,
              "version_minor": 0,
              "model_id": "381c21f1a4bd41dfbe4ee7a637971236"
            }
          },
          "metadata": {}
        },
        {
          "output_type": "display_data",
          "data": {
            "text/plain": [
              "special_tokens_map.json:   0%|          | 0.00/47.0 [00:00<?, ?B/s]"
            ],
            "application/vnd.jupyter.widget-view+json": {
              "version_major": 2,
              "version_minor": 0,
              "model_id": "e052c8e29b77426c81328e9a8ff31cb6"
            }
          },
          "metadata": {}
        },
        {
          "output_type": "stream",
          "name": "stderr",
          "text": [
            "Device set to use cpu\n"
          ]
        },
        {
          "output_type": "stream",
          "name": "stdout",
          "text": [
            "Model loaded on cpu\n"
          ]
        }
      ]
    },
    {
      "cell_type": "code",
      "source": [
        "# Cell 5: Baseline Sample (Fixed)\n",
        "baseline_text = \"আমি বাংলায় কথা বলি\"\n",
        "baseline_file = f\"{PROJECT_DIR}/baseline.wav\"\n",
        "speech = tts(baseline_text)\n",
        "audio_tensor = torch.tensor(speech[\"audio\"])\n",
        "if audio_tensor.dim() == 1:\n",
        "    audio_tensor = audio_tensor.unsqueeze(0)\n",
        "torchaudio.save(baseline_file, audio_tensor, speech[\"sampling_rate\"])\n",
        "display(Audio(baseline_file))"
      ],
      "metadata": {
        "colab": {
          "base_uri": "https://localhost:8080/",
          "height": 75
        },
        "id": "VoGFIT3bh--u",
        "outputId": "476f3838-6c49-46c3-ec89-0a93b22fb86a"
      },
      "execution_count": 12,
      "outputs": [
        {
          "output_type": "display_data",
          "data": {
            "text/plain": [
              "<IPython.lib.display.Audio object>"
            ],
            "text/html": [
              "\n",
              "                <audio  controls=\"controls\" >\n",
              "                    <source src=\"data:audio/x-wav;base64,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\" type=\"audio/x-wav\" />\n",
              "                    Your browser does not support the audio element.\n",
              "                </audio>\n",
              "              "
            ]
          },
          "metadata": {}
        }
      ]
    },
    {
      "cell_type": "markdown",
      "source": [
        "# Dataset and sample creation"
      ],
      "metadata": {
        "id": "LVXhMoPw0RtL"
      }
    },
    {
      "cell_type": "code",
      "source": [
        "\n",
        "try:\n",
        "    dataset = load_dataset(\"mozilla-foundation/common_voice_17_0\", \"bn\", split=f\"train[:{NUM_SAMPLES}]\")\n",
        "    audio_files, texts = [], []\n",
        "    for idx, item in enumerate(dataset):\n",
        "        try:\n",
        "            audio_path = f\"{DATA_DIR}/audio_{idx:04d}.wav\"\n",
        "            audio = np.array(item['audio']['array'])\n",
        "            sr = item['audio']['sampling_rate']\n",
        "            if sr != SAMPLE_RATE:\n",
        "                audio = torchaudio.transforms.Resample(sr, SAMPLE_RATE)(torch.FloatTensor(audio)).numpy()\n",
        "            audio_tensor = torch.FloatTensor(audio)\n",
        "            if audio_tensor.dim() == 1:\n",
        "                audio_tensor = audio_tensor.unsqueeze(0)\n",
        "            torchaudio.save(audio_path, audio_tensor, SAMPLE_RATE)\n",
        "            audio_files.append(audio_path)\n",
        "            texts.append(item['sentence'])\n",
        "        except: continue\n",
        "    print(f\"Downloaded {len(audio_files)} samples\")\n",
        "except:\n",
        "    print(\"Creating synthetic samples\")\n",
        "    audio_files, texts = [], []\n",
        "    bangla_texts = [\"ঢাকা বাংলাদেশের রাজধানী\", \"আমি বাংলা ভাষায় কথা বলি\", \"এটি একটি পরীক্ষা\", \"বাংলাদেশ সুন্দর দেশ\", \"আমরা বাংলায় কথা বলি\"]\n",
        "    for idx, text in enumerate(bangla_texts * 6):\n",
        "        try:\n",
        "            audio_path = f\"{DATA_DIR}/synth_{idx:04d}.wav\"\n",
        "            speech = tts(text)\n",
        "            audio_tensor = torch.tensor(speech[\"audio\"])\n",
        "            if audio_tensor.dim() == 1:\n",
        "                audio_tensor = audio_tensor.unsqueeze(0)\n",
        "            torchaudio.save(audio_path, audio_tensor, speech[\"sampling_rate\"])\n",
        "            audio_files.append(audio_path)\n",
        "            texts.append(text)\n",
        "        except Exception as e:\n",
        "            print(f\"Error {idx}: {e}\")\n",
        "            continue\n",
        "    print(f\"Created {len(audio_files)} samples\")"
      ],
      "metadata": {
        "colab": {
          "base_uri": "https://localhost:8080/",
          "height": 84,
          "referenced_widgets": [
            "6457f466899b47878426704fc6d6309d",
            "452cc99e9de54162a3c5c5cdd82cb62d",
            "290de4bc1d984a3b82980bdc4a037910",
            "4064fb6e727946eb92e9d66e138815c0",
            "e3a26fb01d5f42239edc3b18b5f522e0",
            "ffe7a4acfd6b4da8a04460a3fb61726c",
            "7d9eaac13c964467beec11e269aa2ae2",
            "8c39cd16ec214ea4be24f6c146ef163d",
            "0a029a7e4ce447e785881d758dd95c3c",
            "2ba402f7120742858fb994a438593cf0",
            "67bc03ce1b5847e884045872b5c8e36c"
          ]
        },
        "id": "baDSOw1TiBzu",
        "outputId": "9f4e8654-8043-490a-f4fe-71381309c45a"
      },
      "execution_count": 14,
      "outputs": [
        {
          "output_type": "display_data",
          "data": {
            "text/plain": [
              "README.md:   0%|          | 0.00/12.7k [00:00<?, ?B/s]"
            ],
            "application/vnd.jupyter.widget-view+json": {
              "version_major": 2,
              "version_minor": 0,
              "model_id": "6457f466899b47878426704fc6d6309d"
            }
          },
          "metadata": {}
        },
        {
          "output_type": "stream",
          "name": "stdout",
          "text": [
            "Creating synthetic samples\n",
            "Created 30 samples\n"
          ]
        }
      ]
    },
    {
      "cell_type": "markdown",
      "source": [
        "# Filter Data"
      ],
      "metadata": {
        "id": "TE5J0D-G0dWa"
      }
    },
    {
      "cell_type": "code",
      "source": [
        "\n",
        "data = []\n",
        "for path in audio_files:\n",
        "    try:\n",
        "        info = torchaudio.info(path)\n",
        "        dur = info.num_frames / info.sample_rate\n",
        "        if MIN_DUR <= dur <= MAX_DUR:\n",
        "            data.append({'audio_path': path, 'duration': dur})\n",
        "    except: continue\n",
        "\n",
        "df = pd.DataFrame(data)\n",
        "if len(texts) == len(df): df['text'] = texts[:len(df)]\n",
        "print(f\"Valid samples: {len(df)}\")\n",
        "\n",
        "if len(df) > 0:\n",
        "    plt.figure(figsize=(10, 4))\n",
        "    plt.hist(df['duration'], bins=20, edgecolor='black')\n",
        "    plt.xlabel('Duration (s)'), plt.ylabel('Count'), plt.title('Duration Distribution')\n",
        "    plt.savefig(f'{PROJECT_DIR}/duration_dist.png')\n",
        "    plt.show()"
      ],
      "metadata": {
        "colab": {
          "base_uri": "https://localhost:8080/",
          "height": 427
        },
        "id": "JBj7-WiNiFlg",
        "outputId": "69af6f2e-8116-4dec-929c-07a09346116e"
      },
      "execution_count": 15,
      "outputs": [
        {
          "output_type": "stream",
          "name": "stdout",
          "text": [
            "Valid samples: 23\n"
          ]
        },
        {
          "output_type": "display_data",
          "data": {
            "text/plain": [
              "<Figure size 1000x400 with 1 Axes>"
            ],
            "image/png": "[encoded data removed]"
          },
          "metadata": {}
        }
      ]
    },
    {
      "cell_type": "markdown",
      "source": [
        "\n",
        "# Extract Feature"
      ],
      "metadata": {
        "id": "FQ6kpOTc0h8j"
      }
    },
    {
      "cell_type": "code",
      "source": [
        "\n",
        "def extract_mfcc(path):\n",
        "    try:\n",
        "        y, _ = librosa.load(path, sr=SAMPLE_RATE, duration=5.0)\n",
        "        return np.mean(librosa.feature.mfcc(y=y, sr=SAMPLE_RATE, n_mfcc=13), axis=1)\n",
        "    except: return None\n",
        "\n",
        "features = [extract_mfcc(row['audio_path']) for _, row in df.head(30).iterrows()]\n",
        "features = np.array([f for f in features if f is not None])\n",
        "\n",
        "if len(features) > 0:\n",
        "    plt.figure(figsize=(12, 6))\n",
        "    sns.heatmap(features.T, cmap='viridis')\n",
        "    plt.xlabel('Sample'), plt.ylabel('MFCC'), plt.title('MFCC Features')\n",
        "    plt.savefig(f'{PROJECT_DIR}/mfcc.png')\n",
        "    plt.show()"
      ],
      "metadata": {
        "colab": {
          "base_uri": "https://localhost:8080/",
          "height": 564
        },
        "id": "HBm7QfjXjcEQ",
        "outputId": "a690c900-ec0c-4fb0-8385-dbe66fe7021f"
      },
      "execution_count": 16,
      "outputs": [
        {
          "output_type": "display_data",
          "data": {
            "text/plain": [
              "<Figure size 1200x600 with 2 Axes>"
            ],
            "image/png": "[encoded data removed]"
          },
          "metadata": {}
        }
      ]
    },
    {
      "cell_type": "markdown",
      "source": [
        "# Train/Val Split"
      ],
      "metadata": {
        "id": "AfQa-JbO0oce"
      }
    },
    {
      "cell_type": "code",
      "source": [
        "\n",
        "train_size = int(0.8 * len(df))\n",
        "train_df, val_df = df[:train_size], df[train_size:]\n",
        "train_df.to_csv(f'{PROJECT_DIR}/train.csv', index=False)\n",
        "val_df.to_csv(f'{PROJECT_DIR}/val.csv', index=False)\n",
        "print(f\"Train: {len(train_df)}, Val: {len(val_df)}\")\n"
      ],
      "metadata": {
        "colab": {
          "base_uri": "https://localhost:8080/"
        },
        "id": "GcOJJrHtjhSV",
        "outputId": "2654f4de-1310-4218-bbbc-d29814e20f37"
      },
      "execution_count": 17,
      "outputs": [
        {
          "output_type": "stream",
          "name": "stdout",
          "text": [
            "Train: 18, Val: 5\n"
          ]
        }
      ]
    },
    {
      "cell_type": "markdown",
      "source": [
        "# Test Sample"
      ],
      "metadata": {
        "id": "dxx-QNHm0tNC"
      }
    },
    {
      "cell_type": "code",
      "source": [
        "\n",
        "if len(df) > 0:\n",
        "    test_file = f\"{PROJECT_DIR}/test_output.wav\"\n",
        "    test_text = \"ঢাকা বাংলাদেশের রাজধানী\"\n",
        "    speech = tts(test_text)\n",
        "    audio_tensor = torch.tensor(speech[\"audio\"])\n",
        "    if audio_tensor.dim() == 1:\n",
        "        audio_tensor = audio_tensor.unsqueeze(0)\n",
        "    torchaudio.save(test_file, audio_tensor, speech[\"sampling_rate\"])\n",
        "    print(\"Generated:\"), display(Audio(test_file))"
      ],
      "metadata": {
        "colab": {
          "base_uri": "https://localhost:8080/",
          "height": 93
        },
        "id": "ZmlTLsNPjmtZ",
        "outputId": "98bcdffd-c6f7-4092-a2d2-c3a1691627bf"
      },
      "execution_count": 19,
      "outputs": [
        {
          "output_type": "stream",
          "name": "stdout",
          "text": [
            "Generated:\n"
          ]
        },
        {
          "output_type": "display_data",
          "data": {
            "text/plain": [
              "<IPython.lib.display.Audio object>"
            ],
            "text/html": [
              "\n",
              "                <audio  controls=\"controls\" >\n",
              "                    <source src=\"data:audio/x-wav;base64,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\" type=\"audio/x-wav\" />\n",
              "                    Your browser does not support the audio element.\n",
              "                </audio>\n",
              "              "
            ]
          },
          "metadata": {}
        }
      ]
    },
    {
      "cell_type": "markdown",
      "source": [
        "# Spectral Similarity"
      ],
      "metadata": {
        "id": "Xi_KhILM0z5s"
      }
    },
    {
      "cell_type": "code",
      "source": [
        "\n",
        "def spectral_similarity(path1, path2):\n",
        "    try:\n",
        "        y1, _ = librosa.load(path1, sr=SAMPLE_RATE, duration=5.0)\n",
        "        y2, _ = librosa.load(path2, sr=SAMPLE_RATE, duration=5.0)\n",
        "        s1 = librosa.power_to_db(librosa.feature.melspectrogram(y=y1, sr=SAMPLE_RATE))\n",
        "        s2 = librosa.power_to_db(librosa.feature.melspectrogram(y=y2, sr=SAMPLE_RATE))\n",
        "        min_len = min(s1.shape[1], s2.shape[1])\n",
        "        return np.corrcoef(s1[:, :min_len].flatten(), s2[:, :min_len].flatten())[0, 1]\n",
        "    except: return None\n",
        "\n",
        "if len(df) > 0:\n",
        "    sim = spectral_similarity(df.iloc[0]['audio_path'], test_file)\n",
        "    if sim: print(f\"Spectral Similarity: {sim:.4f}\")"
      ],
      "metadata": {
        "colab": {
          "base_uri": "https://localhost:8080/"
        },
        "id": "rk7U02NIjr-v",
        "outputId": "6c0c7067-f994-41f9-a0c4-fbe1260cdcc4"
      },
      "execution_count": 20,
      "outputs": [
        {
          "output_type": "stream",
          "name": "stdout",
          "text": [
            "Spectral Similarity: 0.7508\n"
          ]
        }
      ]
    },
    {
      "cell_type": "markdown",
      "source": [
        "# Short Report and save all files into my drive"
      ],
      "metadata": {
        "id": "18BOsj8F07qv"
      }
    },
    {
      "cell_type": "code",
      "source": [
        "\n",
        "report = f\"\"\"\n",
        "BANGLADESHI BANGLA TTS\n",
        "{'='*50}\n",
        "Dataset: {len(df)} samples ({len(train_df)} train, {len(val_df)} val)\n",
        "Model: Facebook MMS-TTS Bengali\n",
        "Device: {device}\n",
        "Files: baseline.wav, test_output.wav, train.csv, val.csv\n",
        "Status: Complete\n",
        "\"\"\"\n",
        "print(report)\n",
        "with open(f'{PROJECT_DIR}/report.txt', 'w') as f: f.write(report)"
      ],
      "metadata": {
        "colab": {
          "base_uri": "https://localhost:8080/"
        },
        "id": "QAnSoCcFjyAJ",
        "outputId": "969a5b1a-cce9-41cf-a685-79d6fb6ad1a8"
      },
      "execution_count": 21,
      "outputs": [
        {
          "output_type": "stream",
          "name": "stdout",
          "text": [
            "\n",
            "BANGLADESHI BANGLA TTS\n",
            "==================================================\n",
            "Dataset: 23 samples (18 train, 5 val)\n",
            "Model: Facebook MMS-TTS Bengali\n",
            "Device: cpu\n",
            "Files: baseline.wav, test_output.wav, train.csv, val.csv\n",
            "Status: Complete ✓\n",
            "\n"
          ]
        }
      ]
    },
    {
      "cell_type": "code",
      "source": [
        "\n",
        "for file in ['baseline.wav', 'test_output.wav', 'train.csv', 'val.csv', 'duration_dist.png', 'mfcc.png', 'report.txt']:\n",
        "    src = f'{PROJECT_DIR}/{file}'\n",
        "    if os.path.exists(src): shutil.copy(src, DRIVE_DIR)\n",
        "\n",
        "print(f\"Saved to: {DRIVE_DIR}\\nCOMPLETE ✓\")"
      ],
      "metadata": {
        "colab": {
          "base_uri": "https://localhost:8080/"
        },
        "id": "HdTd9cX8j0Ah",
        "outputId": "8f1e42d1-676e-4139-c39d-9f6af093404e"
      },
      "execution_count": 22,
      "outputs": [
        {
          "output_type": "stream",
          "name": "stdout",
          "text": [
            "Saved to: /content/drive/MyDrive/bangla_tts_project\n",
            "COMPLETE ✓\n"
          ]
        }
      ]
    },
    {
      "cell_type": "code",
      "source": [],
      "metadata": {
        "id": "4phhfURlkZap"
      },
      "execution_count": null,
      "outputs": []
    }
  ]
}